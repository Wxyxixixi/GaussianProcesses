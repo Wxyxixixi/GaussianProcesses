{
 "cells": [
  {
   "cell_type": "code",
   "execution_count": 1,
   "metadata": {},
   "outputs": [],
   "source": [
    "from scipy.spatial.distance import pdist, cdist, squareform\n",
    "import numpy as np\n",
    "from matplotlib import pyplot as plt\n",
    "import copy\n",
    "from scipy.optimize import minimize"
   ]
  },
  {
   "cell_type": "code",
   "execution_count": 2,
   "metadata": {},
   "outputs": [],
   "source": [
    "class GP():\n",
    "    def __init__(self, kernel, optimizer):\n",
    "        self.kernel = kernel\n",
    "        self.optimizer = optimizer\n",
    "        \n",
    "    def fit(self, X, y, eval_gradient=True):\n",
    "        pass\n",
    "    def predict(self, X):\n",
    "        pass\n",
    "    def sample_y(self, X, n_samples):\n",
    "        pass\n",
    "    def log_marginal_likelihood(self, theta=None, eval_gradient=None):\n",
    "        pass"
   ]
  },
  {
   "cell_type": "code",
   "execution_count": 3,
   "metadata": {},
   "outputs": [],
   "source": [
    "class RBF():\n",
    "    \n",
    "    def __init__(self, length_scale, signal_variance=1, noise_variance=1e-10):\n",
    "        self.length_scale = length_scale\n",
    "        self.signal_variance = signal_variance\n",
    "        self.noise_variance = noise_variance\n",
    "    \n",
    "    def __call__(self, X1, X2=None, eval_gradient=False):\n",
    "        if X2 is None:\n",
    "            # Upper triangular pair-wise distances\n",
    "            dists = pdist(X1, 'sqeuclidean')\n",
    "            K_ = np.exp(-dists / (2 * self.length_scale ** 2))\n",
    "            K_ = squareform(K_)  # copy upper-triangle to lower-triangle\n",
    "            np.fill_diagonal(K_, 1)\n",
    "        else:\n",
    "            if eval_gradient:\n",
    "                raise ValueError(\n",
    "                    \"Should only be evaluating gradient when X2 is None.\")\n",
    "            dists = cdist(X1, X2, metric='sqeuclidean')\n",
    "            K_ = np.exp(-dists / (2 * self.length_scale ** 2))\n",
    "\n",
    "        # Build total K\n",
    "        K = self.signal_variance * K_\n",
    "        if X2 is None:\n",
    "            K[np.diag_indices_from(K)] += self.noise_variance\n",
    "        \n",
    "        if eval_gradient:\n",
    "            K_grad = np.zeros((K.shape[0], K.shape[1], 3))\n",
    "            # w.r.t length_scale\n",
    "            K_grad[:, :, 0] = self.signal_variance * K_ * squareform(dists) / self.length_scale ** 3\n",
    "            K_grad[:, :, 1] = K_  # w.r.t signal_variance\n",
    "            K_grad[:, :, 2] = np.ones((K.shape))  # w.r.t noise_variance\n",
    "            return K, K_grad\n",
    "        else:\n",
    "            return K\n",
    "        \n",
    "    def set_theta(self, length_scale, signal_variance, noise_variance):\n",
    "        self.length_scale = length_scale\n",
    "        self.signal_variance = signal_variance\n",
    "        self.noise_variance = noise_variance\n",
    "        \n",
    "    def theta(self):\n",
    "        return [self.length_scale, self.signal_variance, self.noise_variance]"
   ]
  },
  {
   "cell_type": "code",
   "execution_count": 4,
   "metadata": {},
   "outputs": [],
   "source": [
    "def fit(self, X, y, eval_gradient=True):\n",
    "    \n",
    "    self.X_train_ = np.copy(X)\n",
    "    self.y_train_ = np.copy(y)\n",
    "    self.kernel_ = copy.copy(self.kernel)  # same as prior kernel but with parameters to be optimized\n",
    "    \n",
    "    # compute alpha of eqn. 2.25, needed for making predictions and computing lml\n",
    "    K = self.kernel_(X, X)\n",
    "    try:\n",
    "        self.L_ = np.linalg.cholesky(K)\n",
    "    except np.linalg.LinAlgError as e:\n",
    "        e.args = (\"The kernel, %s, is not returning a\" \n",
    "                  \"positive definite matrix. Try gradually \"\n",
    "                 \"increasing the 'alpha' parameter of your \"\n",
    "                    \"GaussianProcessRegressor estimator.\"\n",
    "                  % self.kernel_,) + e.args\n",
    "        raise\n",
    "        \n",
    "    self.alpha_ = np.linalg.solve(self.L_.T, np.linalg.solve(self.L_, y))\n",
    "    \n",
    "    def obj_func(theta, eval_gradient):\n",
    "        if eval_gradient:\n",
    "            lml, grad = self.log_marginal_likelihood(theta, eval_gradient=True)\n",
    "            return -lml, -grad\n",
    "        else:\n",
    "            return -self.log_marginal_likelihood(theta)\n",
    "            \n",
    "    results = minimize(obj_func, self.kernel_.theta(), \n",
    "                                      args=(eval_gradient), method=self.optimizer, jac=eval_gradient)\n",
    "    self.log_marginal_likelihood_value = results['fun']\n",
    "    self.kernel_.set_theta(*results['x'])\n",
    "    return self\n",
    "GP.fit = fit"
   ]
  },
  {
   "cell_type": "code",
   "execution_count": 5,
   "metadata": {},
   "outputs": [],
   "source": [
    "def predict(self, X):\n",
    "    \"\"\" Returns predictive mean and variance.\"\"\"\n",
    "    if not hasattr(self, \"X_train_\"):  # Unfitted; predict based on GP prior.\n",
    "        y_mean = np.zeros(X.shape[0])\n",
    "        y_cov = self.kernel(X)\n",
    "        return y_mean, y_cov\n",
    "    else:  # Predict based on GP posterior using kernel with optimized params\n",
    "        K_trans = self.kernel_(X, self.X_train_)\n",
    "        y_mean = K_trans.dot(self.alpha_)  # Line 4 (y_mean = f_star)\n",
    "        # y_mean = self._y_train_mean + y_mean  # undo normal.\n",
    "\n",
    "        v = np.linalg.solve(self.L_, K_trans.T)  # self.L_.T * K_inv * K_trans.T\n",
    "        y_cov = self.kernel_(X) - np.dot(v.T, v)  # Line 6\n",
    "        return y_mean, y_cov\n",
    "GP.predict = predict"
   ]
  },
  {
   "cell_type": "code",
   "execution_count": 6,
   "metadata": {},
   "outputs": [],
   "source": [
    "def sample_y(self, X, n_samples=1):\n",
    "    y_mean, y_cov = self.predict(X)\n",
    "    try:\n",
    "        L = np.linalg.cholesky(y_cov)\n",
    "    except np.linalg.LinAlgError as e:\n",
    "        e.args = (\"The kernel, %s, is not returning a\" \n",
    "                  \"positive definite matrix. Try gradually \"\n",
    "                 \"increasing the 'alpha' parameter of your \"\n",
    "                    \"GaussianProcessRegressor estimator.\"\n",
    "                  % self.kernel,) + e.args\n",
    "        raise\n",
    "    u = np.random.randn(X.shape[0], n_samples)\n",
    "    z = np.dot(L, u) + y_mean[:, np.newaxis]\n",
    "    return z\n",
    "GP.sample_y = sample_y"
   ]
  },
  {
   "cell_type": "code",
   "execution_count": 7,
   "metadata": {},
   "outputs": [],
   "source": [
    "def log_marginal_likelihood(self, theta=None, eval_gradient=False):\n",
    "    \n",
    "    if theta is None:\n",
    "        assert hasattr(self, \"log_marginal_likelihood_value\")\n",
    "        print('Using fitted theta')\n",
    "        return self.log_marginal_likelihood_value\n",
    "    \n",
    "    kernel = copy.deepcopy(self.kernel)\n",
    "    kernel.set_theta(*theta)\n",
    "    \n",
    "    if eval_gradient:\n",
    "        K, K_gradient = kernel(self.X_train_, eval_gradient=True)\n",
    "    else:\n",
    "        K = kernel(self.X_train_)\n",
    "       \n",
    "    # Compute L and alpha for this K (theta)\n",
    "    try:\n",
    "        L = np.linalg.cholesky(K)\n",
    "    except np.linalg.LinAlgError:\n",
    "        return (-np.inf, np.zeros_like(theta)) if eval_gradient else -np.inf\n",
    "\n",
    "    alpha = np.linalg.solve(L.T, np.linalg.solve(L, self.y_train_))\n",
    "        \n",
    "    # Compute log-likelihood (eqn. 2.30)\n",
    "    log_likelihood = -0.5 * np.einsum(\"i,i\", self.y_train_, alpha)\n",
    "    log_likelihood -= np.log(np.diag(L)).sum()\n",
    "    log_likelihood -= K.shape[0] / 2 * np.log(2 * np.pi)\n",
    "\n",
    "    if eval_gradient:\n",
    "        # Compute lml gradient w.r.t kernel params (eqn. 5.9)\n",
    "        tmp = np.einsum(\"i,j->ij\", alpha, alpha)\n",
    "        tmp -= np.linalg.solve(L.T, np.linalg.solve(L, np.eye(K.shape[0])))  # K inverse\n",
    "        log_likelihood_gradient = 0.5 * np.einsum(\"ij,ijk->k\", tmp, K_gradient)  # note K_gradient symmetric so ij same as ji. l output dim and k num params\n",
    "    \n",
    "    if eval_gradient:\n",
    "        return log_likelihood, log_likelihood_gradient\n",
    "    else:\n",
    "        return log_likelihood\n",
    "GP.log_marginal_likelihood = log_marginal_likelihood"
   ]
  },
  {
   "cell_type": "code",
   "execution_count": 8,
   "metadata": {},
   "outputs": [],
   "source": [
    "X = np.sort(np.random.uniform(-5, 5, 10))[:, np.newaxis]\n",
    "kernel = RBF(1, 1, 1e-10)\n",
    "gp = GP(kernel, 'L-BFGS-B')"
   ]
  },
  {
   "cell_type": "code",
   "execution_count": 9,
   "metadata": {},
   "outputs": [],
   "source": [
    "# Sample from prior and take as observations\n",
    "y_sample = gp.sample_y(X)"
   ]
  },
  {
   "cell_type": "code",
   "execution_count": 10,
   "metadata": {},
   "outputs": [
    {
     "data": {
      "text/plain": [
       "(10, 1)"
      ]
     },
     "execution_count": 10,
     "metadata": {},
     "output_type": "execute_result"
    }
   ],
   "source": [
    "y_sample.shape"
   ]
  },
  {
   "cell_type": "code",
   "execution_count": 11,
   "metadata": {},
   "outputs": [],
   "source": [
    "%%capture\n",
    "fig, ax = plt.subplots()"
   ]
  },
  {
   "cell_type": "code",
   "execution_count": 12,
   "metadata": {},
   "outputs": [
    {
     "data": {
      "image/png": "[encoded data removed]",
      "text/plain": [
       "<matplotlib.figure.Figure at 0x109feeac8>"
      ]
     },
     "execution_count": 12,
     "metadata": {},
     "output_type": "execute_result"
    }
   ],
   "source": [
    "ax.plot(X, y_sample, 'r+')\n",
    "ax.set_xlim(-5, 5)\n",
    "ax.set_ylim(-2.5, 2.5)\n",
    "fig"
   ]
  },
  {
   "cell_type": "code",
   "execution_count": 13,
   "metadata": {},
   "outputs": [],
   "source": [
    "X_test = np.arange(-5, 5, 0.005)[:, np.newaxis]"
   ]
  },
  {
   "cell_type": "code",
   "execution_count": 14,
   "metadata": {},
   "outputs": [
    {
     "data": {
      "text/plain": [
       "<__main__.GP at 0x109fee2b0>"
      ]
     },
     "execution_count": 14,
     "metadata": {},
     "output_type": "execute_result"
    }
   ],
   "source": [
    "gp.fit(X, y_sample[:, 0])"
   ]
  },
  {
   "cell_type": "code",
   "execution_count": 15,
   "metadata": {},
   "outputs": [
    {
     "data": {
      "text/plain": [
       "[1.0, 1.0, 1e-10]"
      ]
     },
     "execution_count": 15,
     "metadata": {},
     "output_type": "execute_result"
    }
   ],
   "source": [
    "gp.kernel_.theta()"
   ]
  },
  {
   "cell_type": "code",
   "execution_count": 16,
   "metadata": {},
   "outputs": [
    {
     "data": {
      "text/plain": [
       "[1, 1, 1e-10]"
      ]
     },
     "execution_count": 16,
     "metadata": {},
     "output_type": "execute_result"
    }
   ],
   "source": [
    "gp.kernel.theta()"
   ]
  },
  {
   "cell_type": "code",
   "execution_count": 17,
   "metadata": {},
   "outputs": [],
   "source": [
    "y_pred_mean, y_pred_covar = gp.predict(X_test)"
   ]
  },
  {
   "cell_type": "code",
   "execution_count": 18,
   "metadata": {},
   "outputs": [
    {
     "data": {
      "image/png": "[encoded data removed]",
      "text/plain": [
       "<matplotlib.figure.Figure at 0x109feeac8>"
      ]
     },
     "execution_count": 18,
     "metadata": {},
     "output_type": "execute_result"
    }
   ],
   "source": [
    "ax.plot(X_test, y_pred_mean, 'b')\n",
    "fig"
   ]
  },
  {
   "cell_type": "code",
   "execution_count": 19,
   "metadata": {},
   "outputs": [
    {
     "data": {
      "image/png": "[encoded data removed]",
      "text/plain": [
       "<matplotlib.figure.Figure at 0x109feeac8>"
      ]
     },
     "execution_count": 19,
     "metadata": {},
     "output_type": "execute_result"
    }
   ],
   "source": [
    "# compute 95% confidence interval from pointwise variances and plot\n",
    "pointwise_variances = y_pred_covar.diagonal()\n",
    "error = 1.96 * np.sqrt(pointwise_variances)\n",
    "ax.fill_between(X_test[:, 0], y_pred_mean - error, y_pred_mean + error, alpha=0.3)\n",
    "fig"
   ]
  },
  {
   "cell_type": "code",
   "execution_count": 20,
   "metadata": {},
   "outputs": [],
   "source": [
    "y_pred_sample = gp.sample_y(X_test, n_samples=5)"
   ]
  },
  {
   "cell_type": "code",
   "execution_count": 21,
   "metadata": {},
   "outputs": [
    {
     "data": {
      "text/plain": [
       "(2000, 5)"
      ]
     },
     "execution_count": 21,
     "metadata": {},
     "output_type": "execute_result"
    }
   ],
   "source": [
    "y_pred_sample.shape"
   ]
  },
  {
   "cell_type": "code",
   "execution_count": 22,
   "metadata": {},
   "outputs": [
    {
     "data": {
      "image/png": "[encoded data removed]",
      "text/plain": [
       "<matplotlib.figure.Figure at 0x109feeac8>"
      ]
     },
     "execution_count": 22,
     "metadata": {},
     "output_type": "execute_result"
    }
   ],
   "source": [
    "for i in range(y_pred_sample.shape[1]):\n",
    "    ax.plot(X_test, y_pred_sample[:, i])\n",
    "fig"
   ]
  },
  {
   "cell_type": "code",
   "execution_count": 23,
   "metadata": {},
   "outputs": [
    {
     "name": "stdout",
     "output_type": "stream",
     "text": [
      "Using fitted theta\n"
     ]
    },
    {
     "data": {
      "text/plain": [
       "-3.5904537375745083"
      ]
     },
     "execution_count": 23,
     "metadata": {},
     "output_type": "execute_result"
    }
   ],
   "source": [
    "gp.log_marginal_likelihood()"
   ]
  },
  {
   "cell_type": "code",
   "execution_count": 176,
   "metadata": {},
   "outputs": [],
   "source": [
    "# Plot log marginal likelihood w.r.t. different values of theta\n",
    "length_scales = np.linspace(0.95, 1.2, 100)\n",
    "noise_variance = np.linspace(1e-11, 1e-4, 100)\n",
    "X, Y = np.meshgrid(length_scales, noise_variance)"
   ]
  },
  {
   "cell_type": "code",
   "execution_count": 177,
   "metadata": {},
   "outputs": [
    {
     "data": {
      "text/plain": [
       "(100, 100)"
      ]
     },
     "execution_count": 177,
     "metadata": {},
     "output_type": "execute_result"
    }
   ],
   "source": [
    "X.shape"
   ]
  },
  {
   "cell_type": "code",
   "execution_count": 178,
   "metadata": {},
   "outputs": [],
   "source": [
    "Z = np.array(list(map(lambda x: gp.log_marginal_likelihood(theta=[x[0], 1, x[1]]), list(zip(X.ravel(), Y.ravel())))))"
   ]
  },
  {
   "cell_type": "code",
   "execution_count": 179,
   "metadata": {},
   "outputs": [],
   "source": [
    "Z = Z.reshape((X.shape))"
   ]
  },
  {
   "cell_type": "code",
   "execution_count": 180,
   "metadata": {},
   "outputs": [
    {
     "data": {
      "text/plain": [
       "(100, 100)"
      ]
     },
     "execution_count": 180,
     "metadata": {},
     "output_type": "execute_result"
    }
   ],
   "source": [
    "Z.shape"
   ]
  },
  {
   "cell_type": "code",
   "execution_count": 181,
   "metadata": {},
   "outputs": [
    {
     "data": {
      "text/plain": [
       "<a list of 9 text.Text objects>"
      ]
     },
     "execution_count": 181,
     "metadata": {},
     "output_type": "execute_result"
    },
    {
     "data": {
      "image/png": "[encoded data removed]",
      "text/plain": [
       "<matplotlib.figure.Figure at 0x118141e80>"
      ]
     },
     "metadata": {},
     "output_type": "display_data"
    }
   ],
   "source": [
    "fig, ax = plt.subplots()\n",
    "ax.set_xscale('log')\n",
    "ax.set_yscale('log')\n",
    "CS = ax.contour(X, Y, Z)\n",
    "plt.clabel(CS, inline=1, fontsize=10)"
   ]
  },
  {
   "cell_type": "markdown",
   "metadata": {},
   "source": [
    "tmp"
   ]
  }
 ],
 "metadata": {
  "kernelspec": {
   "display_name": "Python 3",
   "language": "python",
   "name": "python3"
  },
  "language_info": {
   "codemirror_mode": {
    "name": "ipython",
    "version": 3
   },
   "file_extension": ".py",
   "mimetype": "text/x-python",
   "name": "python",
   "nbconvert_exporter": "python",
   "pygments_lexer": "ipython3",
   "version": "3.5.1"
  }
 },
 "nbformat": 4,
 "nbformat_minor": 2
}
