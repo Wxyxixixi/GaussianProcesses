{
 "cells": [
  {
   "cell_type": "code",
   "execution_count": 1,
   "metadata": {},
   "outputs": [],
   "source": [
    "from scipy.spatial.distance import pdist, cdist, squareform\n",
    "from scipy.stats import norm\n",
    "import numpy as np\n",
    "from matplotlib import pyplot as plt\n",
    "import copy\n",
    "from scipy.optimize import minimize"
   ]
  },
  {
   "cell_type": "code",
   "execution_count": 2,
   "metadata": {},
   "outputs": [],
   "source": [
    "class GPC():\n",
    "    def __init__(self, kernel, optimizer, max_iter_predict=100):\n",
    "        self.kernel = kernel\n",
    "        self.optimizer = optimizer\n",
    "        self.max_iter_predict = max_iter_predict\n",
    "        \n",
    "    def fit(self, X, y, eval_gradient=True):\n",
    "        pass\n",
    "    def predict(self, X):\n",
    "        pass\n",
    "    def sample_y(self, X, n_samples):\n",
    "        pass\n",
    "    def log_marginal_likelihood(self, theta=None, eval_gradient=None):\n",
    "        pass"
   ]
  },
  {
   "cell_type": "code",
   "execution_count": 3,
   "metadata": {},
   "outputs": [],
   "source": [
    "class RBF():\n",
    "    \n",
    "    def __init__(self, length_scale=1.0, length_scale_bounds=(1e-5, 1e5)):\n",
    "        self.length_scale = length_scale\n",
    "        self.length_scale_bounds = length_scale_bounds\n",
    "    \n",
    "    def __call__(self, X1, X2=None, eval_gradient=False):\n",
    "        if X2 is None:\n",
    "            # Upper triangular pair-wise distances\n",
    "            dists = pdist(X1/self.length_scale, 'sqeuclidean')\n",
    "            K = np.exp(-0.5 * dists)\n",
    "            K = squareform(K)  # copy upper-triangle to lower-triangle\n",
    "            np.fill_diagonal(K, 1)\n",
    "        else:\n",
    "            if eval_gradient:\n",
    "                raise ValueError(\n",
    "                    \"Should only be evaluating gradient when X2 is None.\")\n",
    "            dists = cdist(X1/self.length_scale, X2/self.length_scale, \n",
    "                          metric='sqeuclidean')\n",
    "            K = np.exp(-0.5 * dists)\n",
    "            \n",
    "        if eval_gradient:\n",
    "            # Note scipy implementation doesn't divide by self.length_scale but\n",
    "            # I think this is wrong.\n",
    "            K_gradient = (K * squareform(dists))[:, :, np.newaxis] / self.length_scale \n",
    "            return K, K_gradient\n",
    "        else:\n",
    "            return K\n",
    "    \n",
    "    def theta(self):\n",
    "        return np.array([self.length_scale])\n",
    "    \n",
    "    def set_theta(self, theta):\n",
    "        [self.length_scale] = theta\n",
    "        \n",
    "    def bounds(self):\n",
    "        return [self.length_scale_bounds]"
   ]
  },
  {
   "cell_type": "code",
   "execution_count": 4,
   "metadata": {},
   "outputs": [],
   "source": [
    "def _posterior_mode(self, K, return_temporaries=False):\n",
    "    \"\"\"Mode-finding for binary Laplace GPC and fixed kernel.\n",
    "    This approximates the posterior of the latent function values for given\n",
    "    inputs and target observations with a Gaussian approximation and uses\n",
    "    Newton's iteration to find the mode of this approximation.\n",
    "        \"\"\"\n",
    "    # Based on Algorithm 3.1 of GPML\n",
    "    \n",
    "    f = np.zeros_like(self.y_train_, dtype=np.float64)\n",
    "\n",
    "    # Use Newton's iteration method to find mode of Laplace approximation\n",
    "    log_marginal_likelihood = -np.inf\n",
    "    for _ in range(self.max_iter_predict):\n",
    "        # Line 4\n",
    "        Phi = norm.cdf(self.y_train_ * f)  # Note f and y 1d\n",
    "        N = norm.pdf(f)\n",
    "        # Broadcast with the diagonals of W to save on computation\n",
    "        W = N ** 2 / Phi ** 2 + self.y_train_ * f * N / Phi  \n",
    "        # Line 5\n",
    "        W_sr = np.sqrt(W)\n",
    "        W_sr_K = W_sr[:, np.newaxis] * K\n",
    "        B = np.eye(W.shape[0]) + W_sr_K * W_sr[np.newaxis, :]\n",
    "        L = np.linalg.cholesky(B)\n",
    "            \n",
    "        # Line 6\n",
    "        b = W * f + N * self.y_train_ / Phi  # 1d\n",
    "        # Line 7\n",
    "        a = b - W_sr * np.linalg.solve(L.T, np.linalg.solve(L, W_sr_K.dot(b)))  # 1d\n",
    "        # Line 8\n",
    "        f = K.dot(a)\n",
    "\n",
    "        # Line 10: Compute log marginal likelihood in loop and use as\n",
    "        # convergence criterion\n",
    "        lml = -0.5 * a.T.dot(f) \\\n",
    "        + np.log(Phi).sum() \\\n",
    "        - np.log(np.diag(L)).sum()\n",
    "\n",
    "        # Check if we have converged (log marginal likelihood does\n",
    "        # not decrease)\n",
    "        if lml - log_marginal_likelihood < 1e-10:\n",
    "            break\n",
    "        log_marginal_likelihood = lml\n",
    "\n",
    "    if return_temporaries:\n",
    "        return log_marginal_likelihood, (f, Phi, N, W_sr, L, b, a)\n",
    "    else:\n",
    "        return log_marginal_likelihood\n",
    "GPC._posterior_mode = _posterior_mode"
   ]
  },
  {
   "cell_type": "code",
   "execution_count": 5,
   "metadata": {},
   "outputs": [],
   "source": [
    "def fit(self, X, y, eval_gradient=True):\n",
    "    \n",
    "    self.X_train_ = np.copy(X)\n",
    "    self.y_train_ = np.copy(y)\n",
    "    self.kernel_ = copy.copy(self.kernel)\n",
    "    \n",
    "    def obj_func(theta, eval_gradient):\n",
    "        if eval_gradient:\n",
    "            lml, grad = self.log_marginal_likelihood(theta, eval_gradient=True)\n",
    "            return -lml, -grad\n",
    "        else:\n",
    "            return -self.log_marginal_likelihood(theta)\n",
    "            \n",
    "    results = minimize(obj_func, \n",
    "                       self.kernel_.theta(), \n",
    "                       args=(eval_gradient), \n",
    "                       method=self.optimizer, \n",
    "                       jac=eval_gradient,\n",
    "                       bounds = self.kernel_.bounds())\n",
    "    self.log_marginal_likelihood_value = -results['fun']\n",
    "    self.kernel_.set_theta(results['x'])\n",
    "    \n",
    "    # Precompute quantities required for predictions which are independent\n",
    "    # of actual query points\n",
    "    K = self.kernel_(self.X_train_, self.X_train_)\n",
    "\n",
    "    # Note returned quantities are evaluated at posterior mode\n",
    "    _, (self.f_, self.Phi_, self.N_, self.W_sr_, self.L_, _, _) = \\\n",
    "    self._posterior_mode(K, return_temporaries=True)\n",
    "    \n",
    "    return self\n",
    "GPC.fit = fit"
   ]
  },
  {
   "cell_type": "code",
   "execution_count": 6,
   "metadata": {},
   "outputs": [],
   "source": [
    "def predict(self, X):\n",
    "    # As discussed on Section 3.4.2 of GPML, for making hard binary\n",
    "    # decisions, it is enough to compute the MAP of the posterior and\n",
    "    # pass it through the sigmoid\n",
    "    if not hasattr(self, \"Phi_\"):\n",
    "        raise ValueError('GP has not been trained')\n",
    "    K_star = self.kernel_(self.X_train_, X)  # K_star =k(x_star) (held in columns)\n",
    "    mean_f_star = K_star.T.dot(self.N_ * self.y_train_ / self.Phi_)  # Algorithm 3.2,Line 4\n",
    "    return np.where(mean_f_star > 0, 1, -1)\n",
    "GPC.predict = predict"
   ]
  },
  {
   "cell_type": "code",
   "execution_count": 7,
   "metadata": {},
   "outputs": [],
   "source": [
    "def predict_proba(self, X):\n",
    "    if not hasattr(self, \"Phi_\"):\n",
    "        raise ValueError('GP has not been trained')\n",
    "    K_star = self.kernel_(self.X_train_, X)  # K_star =k(x_star) (held in columns)\n",
    "    mean_f_star = K_star.T.dot(self.N_ * self.y_train_ / self.Phi_)  # Algorithm 3.2,Line 4\n",
    "    \n",
    "    v = np.linalg.solve(self.L_, self.W_sr_[:, np.newaxis] * K_star)  # Line 5\n",
    "    # Line 6 (compute np.diag(v.T.dot(v)) via einsum - only need diags (variance))\n",
    "    var_f_star = np.diag(self.kernel_(X)) - np.einsum(\"ij,ij->j\", v, v)\n",
    "    \n",
    "    pi_star = norm.cdf(mean_f_star/np.sqrt(1 + var_f_star))\n",
    "    return pi_star, mean_f_star, var_f_star\n",
    "GPC.predict_proba = predict_proba"
   ]
  },
  {
   "cell_type": "code",
   "execution_count": 8,
   "metadata": {},
   "outputs": [],
   "source": [
    "def log_marginal_likelihood(self, theta=None, eval_gradient=False):\n",
    "    \n",
    "    if theta is None:\n",
    "        assert hasattr(self, \"log_marginal_likelihood_value\")\n",
    "        print('Using fitted theta')\n",
    "        return self.log_marginal_likelihood_value\n",
    "    \n",
    "    kernel = copy.deepcopy(self.kernel)\n",
    "    kernel.set_theta(theta)\n",
    "    \n",
    "    if eval_gradient:\n",
    "        K, K_gradient = kernel(self.X_train_, eval_gradient=True)\n",
    "    else:\n",
    "        K = kernel(self.X_train_)\n",
    "        \n",
    "    # Compute log-marginal-likelihood Z and also store some temporaries\n",
    "    # which can be reused for computing Z's gradient\n",
    "    Z, (f, Phi, N, W_sr, L, b, a) = self._posterior_mode(K, return_temporaries=True)\n",
    "    \n",
    "    if not eval_gradient:\n",
    "        return Z\n",
    "\n",
    "    # Compute gradient based on Algorithm 5.1 of GPML\n",
    "    d_Z = np.empty(theta.shape[0])  # shape is 1 for RBF\n",
    "    # XXX: Get rid of the np.diag() in the next line\n",
    "    R = W_sr[:, np.newaxis] * np.linalg.solve(L.T, np.linalg.solve(L, np.diag(W_sr)))  # Line7\n",
    "    C = np.linalg.solve(L, W_sr[:, np.newaxis] * K)  # Line 8\n",
    "\n",
    "    third_deriv = 2 * N ** 2 * f / (Phi ** 2) \\\n",
    "    + 2 * self.y_train_ * N ** 3 / (Phi ** 3) \\\n",
    "    + self.y_train_ * N * (f ** 2 - 1) / Phi \\\n",
    "    + f * N ** 2 / (Phi ** 2)\n",
    "\n",
    "    # Line 9: (use einsum to compute np.diag(C.T.dot(C))))    \n",
    "    s_2 = -0.5 * (np.diag(K) - np.einsum('ij, ij -> j', C, C)) * third_deriv  # (note outer diag in line 9 replaced by broadcast multiply)\n",
    "\n",
    "    for j in range(d_Z.shape[0]):\n",
    "        C = K_gradient[:, :, j]   # Line 11\n",
    "        # Line 12: (R.T.ravel().dot(C.ravel()) = np.trace(R.dot(C)))\n",
    "        s_1 = .5 * a.T.dot(C).dot(a) - .5 * R.T.ravel().dot(C.ravel())\n",
    "        \n",
    "        b = C.dot((N * self.y_train_ / Phi))  # Line 13\n",
    "        s_3 = b - K.dot(R.dot(b))  # Line 14\n",
    "\n",
    "        d_Z[j] = s_1 + s_2.T.dot(s_3)  # Line 15\n",
    "\n",
    "    return Z, d_Z\n",
    "        \n",
    "GPC.log_marginal_likelihood = log_marginal_likelihood"
   ]
  },
  {
   "cell_type": "code",
   "execution_count": 9,
   "metadata": {},
   "outputs": [],
   "source": [
    "X = np.vstack([np.random.uniform(0, 1, 25), np.random.uniform(0, 1, 25)]).T\n",
    "y = np.where(X[:, 0] > 0.5, 1, -1)\n",
    "# Make outliers\n",
    "y[np.random.choice(np.where(X[:, 0] < 0.3)[0])] = 1\n",
    "y[np.random.choice(np.where(X[:, 0] > 0.7)[0])] = -1"
   ]
  },
  {
   "cell_type": "code",
   "execution_count": 10,
   "metadata": {},
   "outputs": [],
   "source": [
    "kernel = RBF(length_scale=1)\n",
    "gp = GPC(kernel, 'L-BFGS-B')"
   ]
  },
  {
   "cell_type": "code",
   "execution_count": 11,
   "metadata": {},
   "outputs": [],
   "source": [
    "%%capture\n",
    "fig, ax = plt.subplots()"
   ]
  },
  {
   "cell_type": "code",
   "execution_count": 12,
   "metadata": {},
   "outputs": [
    {
     "data": {
      "image/png": "[encoded data removed]",
      "text/plain": [
       "<matplotlib.figure.Figure at 0x10b7fed30>"
      ]
     },
     "execution_count": 12,
     "metadata": {},
     "output_type": "execute_result"
    }
   ],
   "source": [
    "ax.scatter(X[y==-1][:, 0], X[y==-1][:, 1])\n",
    "ax.scatter(X[y==1][:, 0], X[y==1][:, 1])\n",
    "ax.set_xlim(0, 1)\n",
    "ax.set_ylim(0, 1)\n",
    "fig"
   ]
  },
  {
   "cell_type": "markdown",
   "metadata": {},
   "source": [
    "### Fit"
   ]
  },
  {
   "cell_type": "code",
   "execution_count": 13,
   "metadata": {},
   "outputs": [
    {
     "data": {
      "text/plain": [
       "<__main__.GPC at 0x10b7fe048>"
      ]
     },
     "execution_count": 13,
     "metadata": {},
     "output_type": "execute_result"
    }
   ],
   "source": [
    "gp.fit(X, y, True)"
   ]
  },
  {
   "cell_type": "code",
   "execution_count": 14,
   "metadata": {},
   "outputs": [
    {
     "data": {
      "text/plain": [
       "array([ 0.30699957])"
      ]
     },
     "execution_count": 14,
     "metadata": {},
     "output_type": "execute_result"
    }
   ],
   "source": [
    "gp.kernel_.theta()"
   ]
  },
  {
   "cell_type": "markdown",
   "metadata": {},
   "source": [
    "### Predict"
   ]
  },
  {
   "cell_type": "code",
   "execution_count": 15,
   "metadata": {},
   "outputs": [],
   "source": [
    "xx1, xx2 = np.meshgrid(np.arange(0, 1, 0.01), np.arange(0, 1, 0.01))\n",
    "X_test = np.array(list(zip(xx1.ravel(), xx2.ravel())))"
   ]
  },
  {
   "cell_type": "code",
   "execution_count": 16,
   "metadata": {},
   "outputs": [
    {
     "data": {
      "text/plain": [
       "array([1, 1, 1, ..., 1, 1, 1])"
      ]
     },
     "execution_count": 16,
     "metadata": {},
     "output_type": "execute_result"
    }
   ],
   "source": [
    "gp.predict(X_test)"
   ]
  },
  {
   "cell_type": "code",
   "execution_count": 17,
   "metadata": {},
   "outputs": [],
   "source": [
    "probs, mean_f_star, var_f_star = gp.predict_proba(X_test)"
   ]
  },
  {
   "cell_type": "code",
   "execution_count": 18,
   "metadata": {},
   "outputs": [
    {
     "data": {
      "image/png": "[encoded data removed]",
      "text/plain": [
       "<matplotlib.figure.Figure at 0x10b7fed30>"
      ]
     },
     "execution_count": 18,
     "metadata": {},
     "output_type": "execute_result"
    }
   ],
   "source": [
    "CS = ax.contour(xx1, xx2, probs.reshape(xx1.shape), levels=[0.25, 0.5, 0.75], colors='k')\n",
    "ax.clabel(CS, inline=1, fontsize=10)\n",
    "fig"
   ]
  },
  {
   "cell_type": "code",
   "execution_count": 19,
   "metadata": {},
   "outputs": [
    {
     "data": {
      "text/plain": [
       "<a list of 7 text.Text objects>"
      ]
     },
     "execution_count": 19,
     "metadata": {},
     "output_type": "execute_result"
    },
    {
     "data": {
      "image/png": "[encoded data removed]",
      "text/plain": [
       "<matplotlib.figure.Figure at 0x10b7fef98>"
      ]
     },
     "metadata": {},
     "output_type": "display_data"
    }
   ],
   "source": [
    "fig, ax = plt.subplots()\n",
    "CS = ax.contour(xx1, xx2, mean_f_star.reshape(xx1.shape), colors='k')\n",
    "ax.clabel(CS, inline=1, fontsize=10)"
   ]
  },
  {
   "cell_type": "code",
   "execution_count": 20,
   "metadata": {},
   "outputs": [
    {
     "data": {
      "image/png": "[encoded data removed]",
      "text/plain": [
       "<matplotlib.figure.Figure at 0x10b95aa20>"
      ]
     },
     "metadata": {},
     "output_type": "display_data"
    }
   ],
   "source": [
    "fig, ax = plt.subplots()\n",
    "CS = ax.contourf(xx1, xx2, var_f_star.reshape(xx1.shape))\n",
    "#ax.clabel(CS, inline=1, fontsize=10)"
   ]
  },
  {
   "cell_type": "code",
   "execution_count": null,
   "metadata": {},
   "outputs": [],
   "source": []
  }
 ],
 "metadata": {
  "kernelspec": {
   "display_name": "Python 3",
   "language": "python",
   "name": "python3"
  },
  "language_info": {
   "codemirror_mode": {
    "name": "ipython",
    "version": 3
   },
   "file_extension": ".py",
   "mimetype": "text/x-python",
   "name": "python",
   "nbconvert_exporter": "python",
   "pygments_lexer": "ipython3",
   "version": "3.5.1"
  }
 },
 "nbformat": 4,
 "nbformat_minor": 2
}
