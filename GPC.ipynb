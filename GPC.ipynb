{
 "cells": [
  {
   "cell_type": "code",
   "execution_count": 1,
   "metadata": {},
   "outputs": [],
   "source": [
    "from scipy.spatial.distance import pdist, cdist, squareform\n",
    "from scipy.stats import norm\n",
    "import numpy as np\n",
    "from matplotlib import pyplot as plt\n",
    "import copy\n",
    "from scipy.optimize import minimize"
   ]
  },
  {
   "cell_type": "code",
   "execution_count": 2,
   "metadata": {},
   "outputs": [],
   "source": [
    "class GP():\n",
    "    def __init__(self, kernel, optimizer, max_iter_predict=100):\n",
    "        self.kernel = kernel\n",
    "        self.optimizer = optimizer\n",
    "        self.max_iter_predict=max_iter_predict\n",
    "        \n",
    "    def fit(self, X, y, eval_gradient=True):\n",
    "        pass\n",
    "    def predict(self, X):\n",
    "        pass\n",
    "    def sample_y(self, X, n_samples):\n",
    "        pass\n",
    "    def log_marginal_likelihood(self, theta=None, eval_gradient=None):\n",
    "        pass"
   ]
  },
  {
   "cell_type": "code",
   "execution_count": 3,
   "metadata": {},
   "outputs": [],
   "source": [
    "class RBF():\n",
    "    \n",
    "    def __init__(self, length_scale, signal_variance=1, noise_variance=1e-10):\n",
    "        self.length_scale = length_scale\n",
    "        self.signal_variance = signal_variance\n",
    "        self.noise_variance = noise_variance\n",
    "    \n",
    "    def __call__(self, X1, X2=None, eval_gradient=False):\n",
    "        if X2 is None:\n",
    "            # Upper triangular pair-wise distances\n",
    "            dists = pdist(X1, 'sqeuclidean')\n",
    "            K_ = np.exp(-dists / (2 * self.length_scale ** 2))\n",
    "            K_ = squareform(K_)  # copy upper-triangle to lower-triangle\n",
    "            np.fill_diagonal(K_, 1)\n",
    "        else:\n",
    "            if eval_gradient:\n",
    "                raise ValueError(\n",
    "                    \"Should only be evaluating gradient when X2 is None.\")\n",
    "            dists = cdist(X1, X2, metric='sqeuclidean')\n",
    "            K_ = np.exp(-dists / (2 * self.length_scale ** 2))\n",
    "\n",
    "        # Build total K\n",
    "        K = self.signal_variance * K_\n",
    "        if X2 is None:\n",
    "            K[np.diag_indices_from(K)] += self.noise_variance\n",
    "        \n",
    "        if eval_gradient:\n",
    "            K_grad = np.zeros((K.shape[0], K.shape[1], 3))\n",
    "            # w.r.t length_scale\n",
    "            K_grad[:, :, 0] = \\\n",
    "            self.signal_variance * K_ * squareform(dists) / self.length_scale ** 3\n",
    "            K_grad[:, :, 1] = K_  # w.r.t signal_variance\n",
    "            K_grad[:, :, 2] = np.ones((K.shape))  # w.r.t noise_variance\n",
    "            return K, K_grad\n",
    "        else:\n",
    "            return K\n",
    "        \n",
    "    def set_theta(self, length_scale, signal_variance, noise_variance):\n",
    "        self.length_scale = length_scale\n",
    "        self.signal_variance = signal_variance\n",
    "        self.noise_variance = noise_variance\n",
    "        \n",
    "    def theta(self):\n",
    "        return [self.length_scale, self.signal_variance, self.noise_variance]"
   ]
  },
  {
   "cell_type": "code",
   "execution_count": 4,
   "metadata": {},
   "outputs": [],
   "source": [
    "def _posterior_mode(self, K, return_temporaries=False):\n",
    "    \"\"\"Mode-finding for binary Laplace GPC and fixed kernel.\n",
    "    This approximates the posterior of the latent function values for given\n",
    "    inputs and target observations with a Gaussian approximation and uses\n",
    "    Newton's iteration to find the mode of this approximation.\n",
    "        \"\"\"\n",
    "    # Based on Algorithm 3.1 of GPML\n",
    "    \n",
    "    f = np.zeros_like(self.y_train_, dtype=np.float64)\n",
    "\n",
    "    # Use Newton's iteration method to find mode of Laplace approximation\n",
    "    log_marginal_likelihood = -np.inf\n",
    "    for _ in range(self.max_iter_predict):\n",
    "        # Line 4\n",
    "        Phi = norm.cdf(self.y_train_ * f)  # Note f and y 1d\n",
    "        N = norm.pdf(f)\n",
    "        # Broadcast with the diagonals of W to save on computation\n",
    "        W = N ** 2 / Phi ** 2 + self.y_train_ * f * N / Phi  \n",
    "        # Line 5\n",
    "        W_sr = np.sqrt(W)\n",
    "        W_sr_K = W_sr[:, np.newaxis] * K\n",
    "        B = np.eye(W.shape[0]) + W_sr_K * W_sr[np.newaxis, :]\n",
    "        L = np.linalg.cholesky(B)\n",
    "            \n",
    "        # Line 6\n",
    "        b = W * f + N * self.y_train_ / Phi  # 1d\n",
    "        # Line 7\n",
    "        a = b - W_sr * np.linalg.solve(L.T, np.linalg.solve(L, W_sr_K.dot(b)))  # 1d\n",
    "        # Line 8\n",
    "        f = K.dot(a)\n",
    "\n",
    "        # Line 10: Compute log marginal likelihood in loop and use as\n",
    "        # convergence criterion\n",
    "        lml = -0.5 * a.T.dot(f) \\\n",
    "        + np.log(Phi).sum() \\\n",
    "        - np.log(np.diag(L)).sum()\n",
    "\n",
    "        # Check if we have converged (log marginal likelihood does\n",
    "        # not decrease)\n",
    "        if lml - log_marginal_likelihood < 1e-10:\n",
    "            break\n",
    "            log_marginal_likelihood = lml\n",
    "\n",
    "    if return_temporaries:\n",
    "        return log_marginal_likelihood, (Phi, N, W_sr, L, b, a)\n",
    "    else:\n",
    "        return log_marginal_likelihood\n",
    "GP._posterior_mode = _posterior_mode"
   ]
  },
  {
   "cell_type": "code",
   "execution_count": 5,
   "metadata": {},
   "outputs": [],
   "source": [
    "def fit(self, X, y, eval_gradient=False):\n",
    "    \n",
    "    self.X_train_ = np.copy(X)\n",
    "    self.y_train_ = np.copy(y)\n",
    "    self.kernel_ = copy.copy(self.kernel)  # same as prior kernel but with parameters to be optimized\n",
    "    \n",
    "    def obj_func(theta, eval_gradient):\n",
    "        if eval_gradient:\n",
    "            lml, grad = self.log_marginal_likelihood(theta, eval_gradient=True)\n",
    "            return -lml, -grad\n",
    "        else:\n",
    "            return -self.log_marginal_likelihood(theta)\n",
    "            \n",
    "    results = minimize(obj_func, \n",
    "                       self.kernel_.theta(), \n",
    "                       args=(eval_gradient), method=self.optimizer, jac=eval_gradient)\n",
    "    self.log_marginal_likelihood_value = results['fun']\n",
    "    self.kernel_.set_theta(*results['x'])\n",
    "    \n",
    "    # Precompute quantities required for predictions which are independent\n",
    "    # of actual query points\n",
    "    K = self.kernel_(self.X_train_, self.X_train_)\n",
    "\n",
    "    # Note returned quantities are evaluated at posterior mode\n",
    "    _, (self.Phi_, self.N_, self.W_sr_, self.L_, _, _) = \\\n",
    "    self._posterior_mode(K, return_temporaries=True)\n",
    "    \n",
    "    return self\n",
    "GP.fit = fit"
   ]
  },
  {
   "cell_type": "code",
   "execution_count": 6,
   "metadata": {},
   "outputs": [],
   "source": [
    "def predict(self, X):\n",
    "    # As discussed on Section 3.4.2 of GPML, for making hard binary\n",
    "    # decisions, it is enough to compute the MAP of the posterior and\n",
    "    # pass it through the sigmoid\n",
    "    if not hasattr(self, \"Phi_\"):\n",
    "        raise ValueError('GP has not been trained')\n",
    "    K_star = self.kernel_(self.X_train_, X)  # K_star =k(x_star) (held in columns)\n",
    "    mean_f_star = K_star.T.dot(self.N_ * self.y_train_ / self.Phi_)  # Algorithm 3.2,Line 4\n",
    "    return np.where(mean_f_star > 0, 1, -1)\n",
    "GP.predict = predict"
   ]
  },
  {
   "cell_type": "code",
   "execution_count": 7,
   "metadata": {},
   "outputs": [],
   "source": [
    "def predict_proba(self, X):\n",
    "    if not hasattr(self, \"Phi_\"):\n",
    "        raise ValueError('GP has not been trained')\n",
    "    K_star = self.kernel_(self.X_train_, X)  # K_star =k(x_star) (held in columns)\n",
    "    mean_f_star = K_star.T.dot(self.N_ * self.y_train_ / self.Phi_)  # Algorithm 3.2,Line 4\n",
    "    \n",
    "    v = np.linalg.solve(self.L_, self.W_sr_[:, np.newaxis] * K_star)  # Line 5\n",
    "    # Line 6 (compute np.diag(v.T.dot(v)) via einsum - only need diags (variance))\n",
    "    var_f_star = np.diag(self.kernel_(X)) - np.einsum(\"ij,ij->j\", v, v)\n",
    "    \n",
    "    pi_star = norm.cdf(mean_f_star/np.sqrt(1 + var_f_star))\n",
    "    return pi_star, mean_f_star, var_f_star\n",
    "GP.predict_proba = predict_proba"
   ]
  },
  {
   "cell_type": "code",
   "execution_count": 8,
   "metadata": {},
   "outputs": [],
   "source": [
    "def log_marginal_likelihood(self, theta=None, eval_gradient=False):\n",
    "    \n",
    "    if theta is None:\n",
    "        assert hasattr(self, \"log_marginal_likelihood_value\")\n",
    "        print('Using fitted theta')\n",
    "        return self.log_marginal_likelihood_value\n",
    "    \n",
    "    kernel = copy.deepcopy(self.kernel)\n",
    "    kernel.set_theta(*theta)\n",
    "    \n",
    "    if eval_gradient:\n",
    "        K, K_gradient = kernel(self.X_train_, eval_gradient=True)\n",
    "    else:\n",
    "        K = kernel(self.X_train_)\n",
    "        \n",
    "    # Compute log-marginal-likelihood Z and also store some temporaries\n",
    "    # which can be reused for computing Z's gradient\n",
    "    Z, (pi, N, W_sr, L, b, a) = self._posterior_mode(K, return_temporaries=True)\n",
    "    \n",
    "    if not eval_gradient:\n",
    "        return Z\n",
    "    else:\n",
    "        raise NotImplementedError('Yet to implement gradient')\n",
    "        \n",
    "GP.log_marginal_likelihood = log_marginal_likelihood"
   ]
  },
  {
   "cell_type": "code",
   "execution_count": 9,
   "metadata": {},
   "outputs": [],
   "source": [
    "X = np.vstack([np.random.uniform(0, 1, 25), np.random.uniform(0, 1, 25)]).T\n",
    "y = np.where(X[:, 0] > 0.5, 1, -1)\n",
    "# Make outliers\n",
    "y[np.random.choice(np.where(X[:, 0] < 0.3)[0])] = 1\n",
    "y[np.random.choice(np.where(X[:, 0] > 0.7)[0])] = -1"
   ]
  },
  {
   "cell_type": "code",
   "execution_count": 10,
   "metadata": {},
   "outputs": [],
   "source": [
    "#X = np.sort(np.random.uniform(-5, 5, 10))[:, np.newaxis]\n",
    "kernel = RBF(0.2, 1, 1e-10)\n",
    "gp = GP(kernel, 'L-BFGS-B')"
   ]
  },
  {
   "cell_type": "code",
   "execution_count": 13,
   "metadata": {},
   "outputs": [],
   "source": [
    "%%capture\n",
    "fig, ax = plt.subplots()"
   ]
  },
  {
   "cell_type": "code",
   "execution_count": 14,
   "metadata": {},
   "outputs": [
    {
     "data": {
      "image/png": "[encoded data removed]",
      "text/plain": [
       "<matplotlib.figure.Figure at 0x110476128>"
      ]
     },
     "execution_count": 14,
     "metadata": {},
     "output_type": "execute_result"
    }
   ],
   "source": [
    "ax.scatter(X[y==-1][:, 0], X[y==-1][:, 1])\n",
    "ax.scatter(X[y==1][:, 0], X[y==1][:, 1])\n",
    "ax.set_xlim(0, 1)\n",
    "ax.set_ylim(0, 1)\n",
    "fig"
   ]
  },
  {
   "cell_type": "markdown",
   "metadata": {},
   "source": [
    "### Fit"
   ]
  },
  {
   "cell_type": "code",
   "execution_count": 15,
   "metadata": {},
   "outputs": [
    {
     "data": {
      "text/plain": [
       "<__main__.GP at 0x110476160>"
      ]
     },
     "execution_count": 15,
     "metadata": {},
     "output_type": "execute_result"
    }
   ],
   "source": [
    "gp.fit(X, y)"
   ]
  },
  {
   "cell_type": "code",
   "execution_count": 16,
   "metadata": {},
   "outputs": [
    {
     "data": {
      "text/plain": [
       "[0.20000000000000001, 1.0, 1e-10]"
      ]
     },
     "execution_count": 16,
     "metadata": {},
     "output_type": "execute_result"
    }
   ],
   "source": [
    "gp.kernel_.theta()"
   ]
  },
  {
   "cell_type": "code",
   "execution_count": 17,
   "metadata": {},
   "outputs": [
    {
     "data": {
      "text/plain": [
       "[0.2, 1, 1e-10]"
      ]
     },
     "execution_count": 17,
     "metadata": {},
     "output_type": "execute_result"
    }
   ],
   "source": [
    "gp.kernel.theta()"
   ]
  },
  {
   "cell_type": "markdown",
   "metadata": {},
   "source": [
    "### Predict"
   ]
  },
  {
   "cell_type": "code",
   "execution_count": 18,
   "metadata": {},
   "outputs": [],
   "source": [
    "xx1, xx2 = np.meshgrid(np.arange(0, 1, 0.01), np.arange(0, 1, 0.01))\n",
    "X_test = np.array(list(zip(xx1.ravel(), xx2.ravel())))"
   ]
  },
  {
   "cell_type": "code",
   "execution_count": 19,
   "metadata": {},
   "outputs": [
    {
     "data": {
      "text/plain": [
       "array([-1, -1, -1, ...,  1,  1,  1])"
      ]
     },
     "execution_count": 19,
     "metadata": {},
     "output_type": "execute_result"
    }
   ],
   "source": [
    "gp.predict(X_test)"
   ]
  },
  {
   "cell_type": "code",
   "execution_count": 20,
   "metadata": {},
   "outputs": [],
   "source": [
    "probs, mean_f_star, var_f_star = gp.predict_proba(X_test)"
   ]
  },
  {
   "cell_type": "code",
   "execution_count": 21,
   "metadata": {},
   "outputs": [
    {
     "data": {
      "image/png": "[encoded data removed]",
      "text/plain": [
       "<matplotlib.figure.Figure at 0x110476128>"
      ]
     },
     "execution_count": 21,
     "metadata": {},
     "output_type": "execute_result"
    }
   ],
   "source": [
    "CS = ax.contour(xx1, xx2, probs.reshape(xx1.shape), levels=[0.25, 0.5, 0.75], colors='k')\n",
    "ax.clabel(CS, inline=1, fontsize=10)\n",
    "fig"
   ]
  },
  {
   "cell_type": "code",
   "execution_count": 22,
   "metadata": {},
   "outputs": [
    {
     "data": {
      "text/plain": [
       "<a list of 10 text.Text objects>"
      ]
     },
     "execution_count": 22,
     "metadata": {},
     "output_type": "execute_result"
    },
    {
     "data": {
      "image/png": "[encoded data removed]",
      "text/plain": [
       "<matplotlib.figure.Figure at 0x1104b7668>"
      ]
     },
     "metadata": {},
     "output_type": "display_data"
    }
   ],
   "source": [
    "fig, ax = plt.subplots()\n",
    "CS = ax.contour(xx1, xx2, mean_f_star.reshape(xx1.shape), colors='k')\n",
    "ax.clabel(CS, inline=1, fontsize=10)"
   ]
  },
  {
   "cell_type": "code",
   "execution_count": 23,
   "metadata": {},
   "outputs": [
    {
     "data": {
      "image/png": "[encoded data removed]",
      "text/plain": [
       "<matplotlib.figure.Figure at 0x1105df518>"
      ]
     },
     "metadata": {},
     "output_type": "display_data"
    }
   ],
   "source": [
    "fig, ax = plt.subplots()\n",
    "CS = ax.contourf(xx1, xx2, var_f_star.reshape(xx1.shape))\n",
    "#ax.clabel(CS, inline=1, fontsize=10)"
   ]
  },
  {
   "cell_type": "code",
   "execution_count": null,
   "metadata": {},
   "outputs": [],
   "source": []
  }
 ],
 "metadata": {
  "kernelspec": {
   "display_name": "Python 3",
   "language": "python",
   "name": "python3"
  },
  "language_info": {
   "codemirror_mode": {
    "name": "ipython",
    "version": 3
   },
   "file_extension": ".py",
   "mimetype": "text/x-python",
   "name": "python",
   "nbconvert_exporter": "python",
   "pygments_lexer": "ipython3",
   "version": "3.5.1"
  }
 },
 "nbformat": 4,
 "nbformat_minor": 2
}
