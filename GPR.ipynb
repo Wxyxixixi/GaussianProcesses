{
 "cells": [
  {
   "cell_type": "markdown",
   "metadata": {},
   "source": [
    "Consider the standard regression probelem. We have some observed data $\\mathcal{D} = [(\\mathbf{x}_1, y_1) \\dots (\\mathbf{x}_n, y_n)]$ with $\\mathbf{x} \\in \\mathbb{R}^D$ and $y \\in \\mathbb{R}$, and we want to predict the unkown $y_*$ corresponding to some new test point $\\mathbf{x}_*$. If we assume the underlying function $y=f(\\mathbf{x})$ that generated $\\mathcal{D}$ is linear, then we can simply use the least-squares method to draw a line-of-best-fit and thus arrive at our estimate for $y_*$."
   ]
  },
  {
   "cell_type": "markdown",
   "metadata": {},
   "source": [
    "Of course the assumption of a linear model will not normally be valid. To lift this restriction, a simple trick is to project the inputs $\\mathbf{x} \\in \\mathcal{R}^D$ into some higher dimensional space $\\mathbf{\\phi}(\\mathbf{x}) \\in \\mathcal{R}^M$, where $M > D$, and then apply the above linear model in this space rather than on the inputs themselves. For example, a scalar input $x \\in \\mathcal{R}$ could be projected into the space of powers of $x$: $\\phi({x}) = (1, x, x^2, x^3, \\dots)^T$. Applying our linear model now on $\\phi(x)$ rather than $x$ alone, i.e. $y=f(\\phi(x))$, would implicitly perform polynomial regression in the input space."
   ]
  },
  {
   "cell_type": "markdown",
   "metadata": {},
   "source": [
    "The above begs the question: How to choose $\\phi$?"
   ]
  },
  {
   "cell_type": "markdown",
   "metadata": {},
   "source": [
    "In the real world our observations are inherently noisy. A common approach to try and model this "
   ]
  },
  {
   "cell_type": "markdown",
   "metadata": {},
   "source": [
    "### Bayesian Linear Regression -> GP Regression"
   ]
  },
  {
   "cell_type": "markdown",
   "metadata": {},
   "source": [
    "The standard Bayesian linear regression model with Gaussian noise is:\n",
    "$$ f(\\mathbf{x}) = \\mathbf{x}^T \\mathbf{w}, \\quad y = f(\\mathbf{x}) + \\epsilon $$\n",
    "with\n",
    "$$ \\mathbf{w} \\sim \\mathcal{N}(0, \\Sigma_{p}) \\quad \\text{and} \\quad \\epsilon \\sim \\mathcal{N}(0, \\sigma^{2}I) $$"
   ]
  },
  {
   "cell_type": "markdown",
   "metadata": {},
   "source": [
    "Bay\n",
    "$$x=\\sqrt{a^2 + b^2}$$"
   ]
  },
  {
   "cell_type": "code",
   "execution_count": 1,
   "metadata": {},
   "outputs": [],
   "source": [
    "from scipy.spatial.distance import pdist, cdist, squareform\n",
    "import numpy as np\n",
    "from matplotlib import pyplot as plt\n",
    "import copy\n",
    "from scipy.optimize import minimize\n",
    "import warnings"
   ]
  },
  {
   "cell_type": "code",
   "execution_count": 2,
   "metadata": {},
   "outputs": [],
   "source": [
    "class GPR():\n",
    "    def __init__(self, kernel, optimizer, noise_var=1e-10):\n",
    "        self.kernel = kernel\n",
    "        self.optimizer = optimizer\n",
    "        self.noise_var = noise_var\n",
    "        \n",
    "    def fit(self, X, y, eval_gradient=True):\n",
    "        pass\n",
    "    def predict(self, X):\n",
    "        pass\n",
    "    def sample_y(self, X, n_samples):\n",
    "        pass\n",
    "    def log_marginal_likelihood(self, theta=None, eval_gradient=None):\n",
    "        pass"
   ]
  },
  {
   "cell_type": "code",
   "execution_count": 3,
   "metadata": {},
   "outputs": [],
   "source": [
    "class RBF():\n",
    "    \n",
    "    def __init__(self, length_scale=1.0, length_scale_bounds=(1e-5, 1e5)):\n",
    "        self.length_scale = length_scale\n",
    "        self.length_scale_bounds = length_scale_bounds\n",
    "    \n",
    "    def __call__(self, X1, X2=None, eval_gradient=False):\n",
    "        if X2 is None:\n",
    "            # Upper triangular pair-wise distances\n",
    "            dists = pdist(X1/self.length_scale, 'sqeuclidean')\n",
    "            K = np.exp(-0.5 * dists)\n",
    "            K = squareform(K)  # copy upper-triangle to lower-triangle\n",
    "            np.fill_diagonal(K, 1)\n",
    "        else:\n",
    "            if eval_gradient:\n",
    "                raise ValueError(\n",
    "                    \"Should only be evaluating gradient when X2 is None.\")\n",
    "            dists = cdist(X1/self.length_scale, X2/self.length_scale, \n",
    "                          metric='sqeuclidean')\n",
    "            K = np.exp(-0.5 * dists)\n",
    "            \n",
    "        if eval_gradient:\n",
    "            # Note scipy implementation doesn't divide by self.length_scale but\n",
    "            # I think this is wrong.\n",
    "            K_gradient = (K * squareform(dists))[:, :, np.newaxis] / self.length_scale \n",
    "            return K, K_gradient\n",
    "        else:\n",
    "            return K\n",
    "    \n",
    "    def theta(self):\n",
    "        return np.array([self.length_scale])\n",
    "    \n",
    "    def set_theta(self, theta):\n",
    "        [self.length_scale] = theta\n",
    "        \n",
    "    def bounds(self):\n",
    "        return [self.length_scale_bounds]"
   ]
  },
  {
   "cell_type": "code",
   "execution_count": 4,
   "metadata": {},
   "outputs": [],
   "source": [
    "def fit(self, X, y, eval_gradient=True):\n",
    "    \n",
    "    # demean our observations and take this mean for GP prior \n",
    "    # (realized in computing predictive mean eqn. 2.25)\n",
    "    self._y_train_mean = np.mean(y, axis=0)\n",
    "    y = y - self._y_train_mean\n",
    "    \n",
    "    self.X_train_ = np.copy(X)\n",
    "    self.y_train_ = np.copy(y)\n",
    "    self.kernel_ = copy.copy(self.kernel)  # same as prior kernel \n",
    "    # but with parameters to be optimized\n",
    "    \n",
    "    def obj_func(theta, eval_gradient):\n",
    "        if eval_gradient:\n",
    "            lml, grad = self.log_marginal_likelihood(theta, eval_gradient=True)\n",
    "            return -lml, -grad\n",
    "        else:\n",
    "            return -self.log_marginal_likelihood(theta)\n",
    "    results = minimize(obj_func, \n",
    "                       self.kernel_.theta(), \n",
    "                       args=(eval_gradient), \n",
    "                       method=self.optimizer, \n",
    "                       jac=eval_gradient,\n",
    "                       bounds=self.kernel_.bounds())\n",
    "    self.log_marginal_likelihood_value = -results['fun']\n",
    "    self.kernel_.set_theta(results['x'])\n",
    "    \n",
    "    # compute alpha of eqn. 2.25, needed for making predictions and computing lml\n",
    "    K = self.kernel_(self.X_train_)\n",
    "    K[np.diag_indices_from(K)] += self.noise_var\n",
    "    try:\n",
    "        self.L_ = np.linalg.cholesky(K)\n",
    "    except np.linalg.LinAlgError as e:\n",
    "        e.args = (\"The kernel, %s, is not returning a\" \n",
    "                  \"positive definite matrix. Try gradually \"\n",
    "                 \"increasing the 'alpha' parameter of your \"\n",
    "                    \"GaussianProcessRegressor estimator.\"\n",
    "                  % self.kernel_,) + e.args\n",
    "        raise\n",
    "        \n",
    "    self.alpha_ = np.linalg.solve(self.L_.T, np.linalg.solve(self.L_, self.y_train_))\n",
    "    \n",
    "    return results['success']\n",
    "\n",
    "GPR.fit = fit"
   ]
  },
  {
   "cell_type": "code",
   "execution_count": 5,
   "metadata": {},
   "outputs": [],
   "source": [
    "def predict(self, X):\n",
    "    \"\"\" Returns predictive mean and variance.\"\"\"\n",
    "    if not hasattr(self, \"X_train_\"):  # Unfitted; predict based on GP prior.\n",
    "        y_mean = np.zeros(X.shape[0])\n",
    "        y_cov = self.kernel(X)\n",
    "        return y_mean, y_cov\n",
    "    else:  # Predict based on GP posterior using kernel with optimized params\n",
    "        K_trans = self.kernel_(X, self.X_train_)\n",
    "        y_mean = K_trans.dot(self.alpha_)  # Line 4 (y_mean = f_star)\n",
    "        y_mean = self._y_train_mean + y_mean  # undo normal.\n",
    "\n",
    "        v = np.linalg.solve(self.L_, K_trans.T)  # self.L_.T * K_inv * K_trans.T\n",
    "        y_cov = self.kernel_(X) - np.dot(v.T, v)  # Line 6\n",
    "        \n",
    "        # Add jitter to avoid numerical issues\n",
    "        y_cov[np.diag_indices_from(y_cov)] += 1e-10\n",
    "      \n",
    "        return y_mean, y_cov\n",
    "GPR.predict = predict"
   ]
  },
  {
   "cell_type": "code",
   "execution_count": 6,
   "metadata": {},
   "outputs": [],
   "source": [
    "def sample_y(self, X, n_samples=1):\n",
    "    y_mean, y_cov = self.predict(X)\n",
    "    \n",
    "    # z = np.random.multivariate_normal(y_mean, y_cov, n_samples).T  \n",
    "    try:\n",
    "        L = np.linalg.cholesky(y_cov)\n",
    "    except np.linalg.LinAlgError as e:\n",
    "        e.args = (\"The kernel, %s, is not returning a\" \n",
    "                  \"positive definite matrix.\"\n",
    "                  % self.kernel,) + e.args\n",
    "        raise\n",
    "    u = np.random.randn(X.shape[0], n_samples)\n",
    "    z = np.dot(L, u) + y_mean[:, np.newaxis]\n",
    "    return z\n",
    "GPR.sample_y = sample_y"
   ]
  },
  {
   "cell_type": "code",
   "execution_count": 7,
   "metadata": {},
   "outputs": [],
   "source": [
    "def log_marginal_likelihood(self, theta=None, eval_gradient=False, noise_var=None):\n",
    "    \n",
    "    if noise_var is None:\n",
    "        noise_var = self.noise_var\n",
    "        \n",
    "    if theta is None:\n",
    "        assert hasattr(self, \"log_marginal_likelihood_value\")\n",
    "        print('Using fitted theta')\n",
    "        return self.log_marginal_likelihood_value\n",
    "    \n",
    "    kernel = copy.deepcopy(self.kernel)\n",
    "    kernel.set_theta(theta)\n",
    "    \n",
    "    if eval_gradient:\n",
    "        K, K_gradient = kernel(self.X_train_, eval_gradient=True)\n",
    "    else:\n",
    "        K = kernel(self.X_train_)\n",
    "        \n",
    "    K[np.diag_indices_from(K)] += noise_var\n",
    "       \n",
    "    # Compute L and alpha for this K (theta)\n",
    "    try:\n",
    "        L = np.linalg.cholesky(K)\n",
    "    except np.linalg.LinAlgError:\n",
    "        return (-np.inf, np.zeros_like(theta)) if eval_gradient else -np.inf\n",
    "\n",
    "    alpha = np.linalg.solve(L.T, np.linalg.solve(L, self.y_train_))\n",
    "        \n",
    "    # Compute log-likelihood (eqn. 2.30)\n",
    "    log_likelihood = -0.5 * np.einsum(\"i,i\", self.y_train_, alpha)\n",
    "    log_likelihood -= np.log(np.diag(L)).sum()\n",
    "    log_likelihood -= K.shape[0] / 2 * np.log(2 * np.pi)\n",
    "\n",
    "    if eval_gradient:\n",
    "        # Compute lml gradient w.r.t kernel params (eqn. 5.9)\n",
    "        tmp = np.einsum(\"i,j->ij\", alpha, alpha)\n",
    "        tmp -= np.linalg.solve(L.T, np.linalg.solve(L, np.eye(K.shape[0])))  # K inverse\n",
    "        log_likelihood_gradient = 0.5 * np.einsum(\"ij,ijk->k\", tmp, K_gradient)\n",
    "    \n",
    "    if eval_gradient:\n",
    "        return log_likelihood, log_likelihood_gradient\n",
    "    else:\n",
    "        return log_likelihood\n",
    "GPR.log_marginal_likelihood = log_marginal_likelihood"
   ]
  },
  {
   "cell_type": "code",
   "execution_count": 8,
   "metadata": {},
   "outputs": [],
   "source": [
    "X = np.sort(np.random.uniform(-5, 5, 10))[:, np.newaxis]\n",
    "kernel = RBF(length_scale=1)\n",
    "gp = GPR(kernel, 'L-BFGS-B', noise_var=1e-10)"
   ]
  },
  {
   "cell_type": "code",
   "execution_count": 9,
   "metadata": {},
   "outputs": [],
   "source": [
    "# Sample from prior and take as observations\n",
    "y_sample = gp.sample_y(X)"
   ]
  },
  {
   "cell_type": "code",
   "execution_count": 10,
   "metadata": {},
   "outputs": [
    {
     "data": {
      "text/plain": [
       "(10, 1)"
      ]
     },
     "execution_count": 10,
     "metadata": {},
     "output_type": "execute_result"
    }
   ],
   "source": [
    "y_sample.shape"
   ]
  },
  {
   "cell_type": "code",
   "execution_count": 11,
   "metadata": {},
   "outputs": [],
   "source": [
    "%%capture\n",
    "fig, ax = plt.subplots()"
   ]
  },
  {
   "cell_type": "code",
   "execution_count": 12,
   "metadata": {},
   "outputs": [
    {
     "data": {
      "image/png": "[encoded data removed]",
      "text/plain": [
       "<matplotlib.figure.Figure at 0x1034dc940>"
      ]
     },
     "execution_count": 12,
     "metadata": {},
     "output_type": "execute_result"
    }
   ],
   "source": [
    "ax.plot(X, y_sample, 'r+')\n",
    "ax.set_xlim(-5, 5)\n",
    "ax.set_ylim(-2.5, 2.5)\n",
    "fig"
   ]
  },
  {
   "cell_type": "code",
   "execution_count": 13,
   "metadata": {},
   "outputs": [],
   "source": [
    "X_test = np.arange(-5, 5, 0.005)[:, np.newaxis]"
   ]
  },
  {
   "cell_type": "code",
   "execution_count": 14,
   "metadata": {},
   "outputs": [
    {
     "data": {
      "text/plain": [
       "True"
      ]
     },
     "execution_count": 14,
     "metadata": {},
     "output_type": "execute_result"
    }
   ],
   "source": [
    "gp.fit(X, y_sample[:, 0], True)"
   ]
  },
  {
   "cell_type": "code",
   "execution_count": 15,
   "metadata": {},
   "outputs": [
    {
     "data": {
      "text/plain": [
       "array([ 0.95045419])"
      ]
     },
     "execution_count": 15,
     "metadata": {},
     "output_type": "execute_result"
    }
   ],
   "source": [
    "gp.kernel_.theta()"
   ]
  },
  {
   "cell_type": "code",
   "execution_count": 16,
   "metadata": {},
   "outputs": [
    {
     "data": {
      "text/plain": [
       "array([1])"
      ]
     },
     "execution_count": 16,
     "metadata": {},
     "output_type": "execute_result"
    }
   ],
   "source": [
    "gp.kernel.theta()"
   ]
  },
  {
   "cell_type": "code",
   "execution_count": 17,
   "metadata": {},
   "outputs": [],
   "source": [
    "y_pred_mean, y_pred_covar = gp.predict(X_test)"
   ]
  },
  {
   "cell_type": "code",
   "execution_count": 18,
   "metadata": {},
   "outputs": [
    {
     "data": {
      "image/png": "[encoded data removed]",
      "text/plain": [
       "<matplotlib.figure.Figure at 0x1034dc940>"
      ]
     },
     "execution_count": 18,
     "metadata": {},
     "output_type": "execute_result"
    }
   ],
   "source": [
    "ax.plot(X_test, y_pred_mean, 'b')\n",
    "fig"
   ]
  },
  {
   "cell_type": "code",
   "execution_count": 19,
   "metadata": {},
   "outputs": [
    {
     "data": {
      "image/png": "[encoded data removed]",
      "text/plain": [
       "<matplotlib.figure.Figure at 0x1034dc940>"
      ]
     },
     "execution_count": 19,
     "metadata": {},
     "output_type": "execute_result"
    }
   ],
   "source": [
    "# compute 95% confidence interval from pointwise variances and plot\n",
    "pointwise_variances = y_pred_covar.diagonal()\n",
    "error = 1.96 * np.sqrt(pointwise_variances)\n",
    "ax.fill_between(X_test[:, 0], y_pred_mean - error, y_pred_mean + error, alpha=0.3)\n",
    "fig"
   ]
  },
  {
   "cell_type": "code",
   "execution_count": 20,
   "metadata": {},
   "outputs": [],
   "source": [
    "y_pred_sample = gp.sample_y(X_test, n_samples=5)"
   ]
  },
  {
   "cell_type": "code",
   "execution_count": 21,
   "metadata": {},
   "outputs": [
    {
     "data": {
      "image/png": "[encoded data removed]",
      "text/plain": [
       "<matplotlib.figure.Figure at 0x1034dc940>"
      ]
     },
     "execution_count": 21,
     "metadata": {},
     "output_type": "execute_result"
    }
   ],
   "source": [
    "for i in range(y_pred_sample.shape[1]):\n",
    "    ax.plot(X_test, y_pred_sample[:, i])\n",
    "fig"
   ]
  },
  {
   "cell_type": "code",
   "execution_count": 22,
   "metadata": {},
   "outputs": [
    {
     "name": "stdout",
     "output_type": "stream",
     "text": [
      "Using fitted theta\n"
     ]
    },
    {
     "data": {
      "text/plain": [
       "-2.4264200278080201"
      ]
     },
     "execution_count": 22,
     "metadata": {},
     "output_type": "execute_result"
    }
   ],
   "source": [
    "gp.log_marginal_likelihood()"
   ]
  },
  {
   "cell_type": "code",
   "execution_count": 23,
   "metadata": {},
   "outputs": [],
   "source": [
    "# Plot log marginal likelihood w.r.t. different values of theta\n",
    "length_scales = np.linspace(0.90, 1.2, 100)\n",
    "noise_variance = np.linspace(1e-11, 1e-4, 100)\n",
    "X, Y = np.meshgrid(length_scales, noise_variance)"
   ]
  },
  {
   "cell_type": "code",
   "execution_count": 24,
   "metadata": {},
   "outputs": [
    {
     "data": {
      "text/plain": [
       "(100, 100)"
      ]
     },
     "execution_count": 24,
     "metadata": {},
     "output_type": "execute_result"
    }
   ],
   "source": [
    "X.shape"
   ]
  },
  {
   "cell_type": "code",
   "execution_count": 25,
   "metadata": {},
   "outputs": [],
   "source": [
    "Z = np.array(list(map(lambda x: gp.log_marginal_likelihood(theta=[x[0]], noise_var=x[1]), list(zip(X.ravel(), Y.ravel())))))"
   ]
  },
  {
   "cell_type": "code",
   "execution_count": 26,
   "metadata": {},
   "outputs": [],
   "source": [
    "Z = Z.reshape((X.shape))"
   ]
  },
  {
   "cell_type": "code",
   "execution_count": 27,
   "metadata": {},
   "outputs": [
    {
     "data": {
      "text/plain": [
       "(100, 100)"
      ]
     },
     "execution_count": 27,
     "metadata": {},
     "output_type": "execute_result"
    }
   ],
   "source": [
    "Z.shape"
   ]
  },
  {
   "cell_type": "code",
   "execution_count": 28,
   "metadata": {},
   "outputs": [
    {
     "data": {
      "text/plain": [
       "<a list of 8 text.Text objects>"
      ]
     },
     "execution_count": 28,
     "metadata": {},
     "output_type": "execute_result"
    },
    {
     "data": {
      "image/png": "[encoded data removed]",
      "text/plain": [
       "<matplotlib.figure.Figure at 0x10657db38>"
      ]
     },
     "metadata": {},
     "output_type": "display_data"
    }
   ],
   "source": [
    "fig, ax = plt.subplots()\n",
    "ax.set_xscale('log')\n",
    "ax.set_yscale('log')\n",
    "CS = ax.contour(X, Y, Z)\n",
    "plt.clabel(CS, inline=1, fontsize=10)"
   ]
  },
  {
   "cell_type": "code",
   "execution_count": null,
   "metadata": {},
   "outputs": [],
   "source": []
  }
 ],
 "metadata": {
  "kernelspec": {
   "display_name": "Python 3",
   "language": "python",
   "name": "python3"
  },
  "language_info": {
   "codemirror_mode": {
    "name": "ipython",
    "version": 3
   },
   "file_extension": ".py",
   "mimetype": "text/x-python",
   "name": "python",
   "nbconvert_exporter": "python",
   "pygments_lexer": "ipython3",
   "version": "3.5.1"
  }
 },
 "nbformat": 4,
 "nbformat_minor": 2
}
