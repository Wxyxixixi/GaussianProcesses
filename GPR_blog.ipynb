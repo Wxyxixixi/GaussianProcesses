{
 "cells": [
  {
   "cell_type": "markdown",
   "metadata": {},
   "source": [
    "Consider the standard regression probelem. We have some observed data $\\mathcal{D} = [(\\mathbf{x}_1, y_1) \\dots (\\mathbf{x}_n, y_n)]$ with $\\mathbf{x} \\in \\mathbb{R}^D$ and $y \\in \\mathbb{R}$, and we want to predict the unkown $y_*$ corresponding to some new test point $\\mathbf{x}_*$. If we assume the underlying function $y=f(\\mathbf{x})$ that generated $\\mathcal{D}$ is linear, then we can simply use the least-squares method to draw a line-of-best-fit and thus arrive at our estimate for $y_*$."
   ]
  },
  {
   "cell_type": "markdown",
   "metadata": {},
   "source": [
    "Of course the assumption of a linear model will not normally be valid. To lift this restriction, a simple trick is to project the inputs $\\mathbf{x} \\in \\mathcal{R}^D$ into some higher dimensional space $\\mathbf{\\phi}(\\mathbf{x}) \\in \\mathcal{R}^M$, where $M > D$, and then apply the above linear model in this space rather than on the inputs themselves. For example, a scalar input $x \\in \\mathcal{R}$ could be projected into the space of powers of $x$: $\\phi({x}) = (1, x, x^2, x^3, \\dots x^{M-1})^T$. By applying our linear model now on $\\phi(x)$ rather than directly on the inputs $x$, i.e. $y=f(\\phi(x))$, we would implicitly be performing polynomial regression in the input space. "
   ]
  },
  {
   "cell_type": "markdown",
   "metadata": {},
   "source": [
    "By selecting alternative components (a.k.a basis functions) for $\\phi(\\mathbf{x})$ we can perform regression of more complex functions. But how do we choose the basis functions? In a Gaussian Process Regression (GPR), we need not specify the basis functions explicitly. Rather, we make some more general assumptions about $f(\\mathbf{x})$, and allow the data to inform the choice instead. This is a key advantage of GPR over other types of regression."
   ]
  },
  {
   "cell_type": "markdown",
   "metadata": {},
   "source": [
    "A GP simply generalises the definition of a multivariate Gaussian distribution to incorporate infinite dimensions: a GP is a set of random variables, any finite subset of which are multivariate Gaussian distributed. More formally, for any index set $\\mathcal{X}$, a GP on $\\mathcal{X}$ is a set of random variables $(z_t) = \\{z_t: t \\in \\mathcal{X}\\}$ s.t. $\\forall n \\in \\mathcal{N}, \\forall x_1, \\dots x_n \\in \\mathcal{X}$, $(z_{x_1} \\dots z_{x_n})$ is multivariate Gaussian distributed.  The definition doesn't actually exclude finite index sets, but a G.P defined over a finite index set would simply be a multivariate Gaussian distribution, and would normally be named as such. "
   ]
  },
  {
   "cell_type": "markdown",
   "metadata": {},
   "source": [
    "In our case the random variables are the function values $f(\\mathbf{x})$ corresponding to all possible input points $\\mathbf{x}$. Since we assume any $n$-element subset of these random variables to be $n$-variate Gaussian distributed, our observations $\\{y_1, \\dots, y_n\\}$ can be imagined as a single point drawn from an $n$-variate Gaussian distribution."
   ]
  },
  {
   "cell_type": "markdown",
   "metadata": {},
   "source": [
    "Whilst a multivariate Gaussian distribution is completely specified by a single (finite dimensional) mean vector and covaraince matrix, in a G.P this is not possible, since the finite dimensional distributions in terms of which it is defined can have any number of dimensions. Instead we specify the G.P in terms of elementwise mean and covariance functions, $m(\\mathbf{x})$ and $k(\\mathbf{x}, \\mathbf{x}')$, from which the mean vectors and covariance matrices of all possible finite dimensional distributions can be constructed.\n",
    "$f(\\mathbf{x}) \\sim \\mathcal{GP}(m(\\mathbf{x}), k(\\mathbf{x}, \\mathbf{x}'))$."
   ]
  },
  {
   "cell_type": "markdown",
   "metadata": {},
   "source": [
    " Any covariance function is valid so long it defines a valid covariance matrix i.e. one that is positive semi-definite. This makes G.Ps particularly flexible and poweful models. Usually the mean function is chosen to be zero."
   ]
  },
  {
   "cell_type": "markdown",
   "metadata": {},
   "source": [
    "OK, time for a some examples. First let's start building a simple GPR class to experiment with. "
   ]
  },
  {
   "cell_type": "code",
   "execution_count": 1,
   "metadata": {},
   "outputs": [],
   "source": [
    "from matplotlib import pyplot as plt\n",
    "import numpy as np\n",
    "np.random.seed(6)"
   ]
  },
  {
   "cell_type": "code",
   "execution_count": 2,
   "metadata": {},
   "outputs": [],
   "source": [
    "kernels = {\n",
    "    #'linear': lambda x1, x2: np.dot(x1.T, x2),\n",
    "    'squared_exponential': lambda x1, x2: np.exp(-np.dot((x1 - x2).T, (x1 - x2))),\n",
    "    #'periodic': lambda x1, x2: np.exp(-np.sin( 1 * np.pi * (x1 - x2)) ** 2)\n",
    "}"
   ]
  },
  {
   "cell_type": "code",
   "execution_count": 3,
   "metadata": {},
   "outputs": [],
   "source": [
    "class GPR():\n",
    "    \n",
    "    def __init__(self, kernel, noise_var=1e-10):\n",
    "        self.kernel = kernel\n",
    "        self.noise_var = noise_var\n",
    "    \n",
    "    # 'Public' methods\n",
    "    def sample_prior(self, X_test, n_samples):\n",
    "        pass\n",
    "    def sample_posterior(self, X_test, n_samples):\n",
    "        pass\n",
    "    def log_marginal_likelihood(self, theta=None, eval_gradient=None):\n",
    "        pass\n",
    "    \n",
    "    # 'Private' helper methods\n",
    "    def _build_covariance_matrix(self, X1, X2=None):\n",
    "        pass\n",
    "    def _cholesky_factorise(y_cov):\n",
    "        pass\n",
    "    def _sample_multivariate_gaussian(y_mean, y_cov):\n",
    "        pass"
   ]
  },
  {
   "cell_type": "code",
   "execution_count": 4,
   "metadata": {},
   "outputs": [],
   "source": [
    "def _build_covariance_matrix(self, X1, X2=None):\n",
    "    if X2 is None:\n",
    "        X2 = X1\n",
    "    C = np.zeros((X1.shape[0] , X2.shape[0]))\n",
    "    for i in range(X1.shape[0]):\n",
    "        for j in range(X2.shape[0]):\n",
    "            C[i, j] = self.kernel(X1[i], X2[j])\n",
    "    return C\n",
    "GPR._build_covariance_matrix = _build_covariance_matrix  # Add to class"
   ]
  },
  {
   "cell_type": "code",
   "execution_count": 5,
   "metadata": {},
   "outputs": [],
   "source": [
    "def _cholesky_factorise(self, y_cov):\n",
    "    try:\n",
    "        L = np.linalg.cholesky(y_cov)\n",
    "    except np.linalg.LinAlgError as e:\n",
    "        e.args = (\"The kernel, %s, is not returning a\" \n",
    "                  \"positive definite matrix. Try increasing\"\n",
    "                  \"the noise variance or adding jitter.\"\n",
    "                  % self.kernel,) + e.args\n",
    "        raise\n",
    "    return L\n",
    "GPR._cholesky_factorise = _cholesky_factorise"
   ]
  },
  {
   "cell_type": "code",
   "execution_count": 6,
   "metadata": {},
   "outputs": [],
   "source": [
    "def _sample_multivariate_gaussian(self, y_mean, y_cov, n_samples=1):\n",
    "    L = self._cholesky_factorise(y_cov)\n",
    "    u = np.random.randn(y_mean.shape[0], n_samples)\n",
    "    z = np.dot(L, u) + y_mean[:, np.newaxis]\n",
    "    return z\n",
    "GPR._sample_multivariate_gaussian = _sample_multivariate_gaussian"
   ]
  },
  {
   "cell_type": "code",
   "execution_count": 7,
   "metadata": {},
   "outputs": [],
   "source": [
    "def sample_prior(self, X_test, n_samples=1):\n",
    "    y_mean = np.zeros(X_test.shape[0])\n",
    "    y_cov = self._build_covariance_matrix(X_test)\n",
    "    y_cov[np.diag_indices_from(y_cov)] += 1e-12  # jitter\n",
    "    return self._sample_multivariate_gaussian(y_mean, y_cov, n_samples)\n",
    "GPR.sample_prior = sample_prior"
   ]
  },
  {
   "cell_type": "code",
   "execution_count": 8,
   "metadata": {},
   "outputs": [
    {
     "data": {
      "image/png": "[encoded data removed]",
      "text/plain": [
       "<matplotlib.figure.Figure at 0x109a89860>"
      ]
     },
     "metadata": {},
     "output_type": "display_data"
    }
   ],
   "source": [
    "X_test = np.arange(-5, 5, 0.005)[:, np.newaxis]\n",
    "n_samples = 10\n",
    "for kernel_name, kernel in kernels.items():\n",
    "    gp = GPR(kernel)\n",
    "    y_samples = gp.sample_prior(X_test, n_samples)\n",
    "    plt.plot(X_test, y_samples)\n",
    "    plt.title('{} kernel'.format(kernel_name))\n",
    "    plt.show()"
   ]
  },
  {
   "cell_type": "markdown",
   "metadata": {},
   "source": [
    "So far we have only drawn random functions from the G.P prior. In order to make meaningful predictions, we first need to restrict this prior distribution to contain only those functions that agree with the observed data. In other words we need to form the G.P posterior. "
   ]
  },
  {
   "cell_type": "markdown",
   "metadata": {},
   "source": [
    "Consider that in addition to the $n$ observations defined above, we have $n_*$ test inputs, for which we want to know the corresponding outputs $f_*$. Using the marginalisation property of multivariate Gaussians, the joint distribution over the observed outputs, $\\mathbf{f}$, and test ouputs $\\mathbf{f_*}$ according to the G.P prior is\n",
    "$\\begin{bmatrix} \\mathbf{f} \\\\ \\mathbf{f}_* \\end{bmatrix} = \\mathcal{N}\\left(\\mathbf{0}, \\begin{bmatrix} K(X, X) && K(X, X_*) \\\\ K(X_*, X) && K(X_*, X_*)\\end{bmatrix}\\right)$."
   ]
  },
  {
   "cell_type": "markdown",
   "metadata": {},
   "source": [
    "The G.P posterior is found by conditioning the joint G.P prior distribution on the observations\n",
    "$\\mathbf{f}_* | X_*, X, \\mathbf{f} \\sim \\mathcal{N}\\left(K(X_*, X)K(X, X)^{-1}\\mathbf{f}, K(X_*, X_*) - K(X_*, X)K(X, X)^{-1}K(X, X_*)\\right)$."
   ]
  },
  {
   "cell_type": "markdown",
   "metadata": {},
   "source": [
    "Let's add a function to our GPR class to compute this posterior mean and covariance, and thus enable us to draw samples from from the posterior."
   ]
  },
  {
   "cell_type": "code",
   "execution_count": 9,
   "metadata": {},
   "outputs": [],
   "source": [
    "def sample_posterior(self, X_train, y_train, X_test, n_samples=1):\n",
    "    y_train -= np.mean(y_train, axis=0)\n",
    "    # compute alpha of eqn. 2.25\n",
    "    K = self._build_covariance_matrix(X_train)\n",
    "    K[np.diag_indices_from(K)] += self.noise_var\n",
    "    L = self._cholesky_factorise(K)\n",
    "    alpha = np.linalg.solve(L.T, np.linalg.solve(L, y_train))\n",
    "    \n",
    "    # Compute posterior mean\n",
    "    K_trans = self._build_covariance_matrix(X_test, X_train)\n",
    "    y_mean = K_trans.dot(alpha)  # Line 4 (y_mean = f_star)\n",
    "    y_mean += np.mean(y_train, axis=0)  \n",
    "\n",
    "    # Compute posterior covariance\n",
    "    v = np.linalg.solve(L, K_trans.T)  # L.T * K_inv * K_trans.T\n",
    "    y_cov = self._build_covariance_matrix(X_test) - np.dot(v.T, v)  # Line 6\n",
    "    y_cov[np.diag_indices_from(y_cov)] += 1e-12  # jitter\n",
    "    \n",
    "    return self._sample_multivariate_gaussian(y_mean, y_cov, n_samples), y_mean, y_cov\n",
    "    \n",
    "GPR.sample_posterior = sample_posterior"
   ]
  },
  {
   "cell_type": "code",
   "execution_count": 10,
   "metadata": {},
   "outputs": [],
   "source": [
    "class SqExp():\n",
    "    def __init__(self, length_scale=1.0):\n",
    "        self.theta = [length_scale]\n",
    "    def __call__(self, x1, x2):\n",
    "        return np.exp(-1/(2*self.theta[0] **2) * np.dot((x1 - x2).T, (x1 - x2)))\n",
    "    def set_theta(self, theta):\n",
    "        self.theta = theta"
   ]
  },
  {
   "cell_type": "code",
   "execution_count": 11,
   "metadata": {},
   "outputs": [],
   "source": [
    "gp = GPR(SqExp(1))"
   ]
  },
  {
   "cell_type": "code",
   "execution_count": 12,
   "metadata": {},
   "outputs": [],
   "source": [
    "X_train = np.sort(np.random.uniform(-5, 5, 10))[:, np.newaxis]\n",
    "y_train = gp.sample_prior(X_train)\n",
    "y_train = y_train[:, 0]  # Only one sample"
   ]
  },
  {
   "cell_type": "code",
   "execution_count": 13,
   "metadata": {},
   "outputs": [
    {
     "data": {
      "text/plain": [
       "(10,)"
      ]
     },
     "execution_count": 13,
     "metadata": {},
     "output_type": "execute_result"
    }
   ],
   "source": [
    "y_train.shape"
   ]
  },
  {
   "cell_type": "code",
   "execution_count": 14,
   "metadata": {},
   "outputs": [],
   "source": [
    "y_samples, y_pred_mean, y_pred_covar = gp.sample_posterior(X_train, y_train, X_test, n_samples=10)"
   ]
  },
  {
   "cell_type": "code",
   "execution_count": 15,
   "metadata": {},
   "outputs": [
    {
     "data": {
      "image/png": "[encoded data removed]",
      "text/plain": [
       "<matplotlib.figure.Figure at 0x109a89da0>"
      ]
     },
     "metadata": {},
     "output_type": "display_data"
    }
   ],
   "source": [
    "# Plot poterior mean and 95% confidence interval.\n",
    "pointwise_variances = y_pred_covar.diagonal()\n",
    "error = 1.96 * np.sqrt(pointwise_variances)\n",
    "plt.plot(X_test, y_pred_mean, 'b')\n",
    "plt.fill_between(X_test[:, 0], y_pred_mean - error, y_pred_mean + error, alpha=0.3)\n",
    "\n",
    "# Plot samples from posterior\n",
    "plt.plot(X_test, y_samples)\n",
    "\n",
    "# Also plot our observations for comparison\n",
    "plt.plot(X_train[:, 0], y_train, 'r+')\n",
    "plt.plot(X_test, y_pred_mean, 'b')\n",
    "plt.fill_between(X_test[:, 0], y_pred_mean - error, y_pred_mean + error, alpha=0.3)\n",
    "\n",
    "plt.show()"
   ]
  },
  {
   "cell_type": "markdown",
   "metadata": {},
   "source": [
    "# lml"
   ]
  },
  {
   "cell_type": "code",
   "execution_count": 16,
   "metadata": {},
   "outputs": [],
   "source": [
    "def log_marginal_likelihood(self, X_train, y_train, theta, noise_var=None):\n",
    "    y_train -= np.mean(y_train, axis=0)\n",
    "    if noise_var is None:\n",
    "        noise_var = self.noise_var\n",
    "    \n",
    "    self.kernel.set_theta(theta)\n",
    "    \n",
    "    K = self._build_covariance_matrix(X_train)    \n",
    "    K[np.diag_indices_from(K)] += noise_var\n",
    "       \n",
    "    # Compute L and alpha for this K (theta)\n",
    "    L = self._cholesky_factorise(K)\n",
    "    alpha = np.linalg.solve(L.T, np.linalg.solve(L, y_train))\n",
    "        \n",
    "    # Compute log-likelihood (eqn. 2.30)\n",
    "    log_likelihood = -0.5 * np.einsum(\"i,i\", y_train, alpha)\n",
    "    log_likelihood -= np.log(np.diag(L)).sum()\n",
    "    log_likelihood -= K.shape[0] / 2 * np.log(2 * np.pi)\n",
    "    \n",
    "    return log_likelihood\n",
    "GPR.log_marginal_likelihood = log_marginal_likelihood"
   ]
  },
  {
   "cell_type": "code",
   "execution_count": 54,
   "metadata": {},
   "outputs": [],
   "source": [
    "# Plot log marginal likelihood w.r.t. different values of theta\n",
    "length_scales = np.linspace(0.7, 1.3, 100)\n",
    "noise_variance = np.linspace(1e-12, 1e-2, 100)\n",
    "X, Y = np.meshgrid(length_scales, noise_variance)"
   ]
  },
  {
   "cell_type": "code",
   "execution_count": 55,
   "metadata": {},
   "outputs": [],
   "source": [
    "Z = np.array(list(map(lambda x: gp.log_marginal_likelihood(X_train, y_train, theta=[x[0]], noise_var=x[1]), list(zip(X.ravel(), Y.ravel())))))\n",
    "Z = Z.reshape((X.shape))"
   ]
  },
  {
   "cell_type": "code",
   "execution_count": 56,
   "metadata": {},
   "outputs": [
    {
     "data": {
      "text/plain": [
       "<a list of 7 text.Text objects>"
      ]
     },
     "execution_count": 56,
     "metadata": {},
     "output_type": "execute_result"
    },
    {
     "data": {
      "image/png": "[encoded data removed]",
      "text/plain": [
       "<matplotlib.figure.Figure at 0x111eac358>"
      ]
     },
     "metadata": {},
     "output_type": "display_data"
    }
   ],
   "source": [
    "fig, ax = plt.subplots()\n",
    "#ax.set_xscale('log')\n",
    "ax.set_yscale('log')\n",
    "CS = ax.contour(X, Y, Z)\n",
    "plt.clabel(CS, inline=1, fontsize=10)"
   ]
  },
  {
   "cell_type": "markdown",
   "metadata": {},
   "source": [
    "Let's take a simple example. Take $m(\\mathbf{x})=0$ and $k(\\mathbf{x}_i, \\mathbf{x}_j) = \\mathbf{x}_i^T\\mathbf{x}_j$. $\\mathcal{X} \\in \\mathcal{R}^d$. $k(\\mathbf{x}_i, \\mathbf{x}_j)$ is a valid covariance function since ."
   ]
  },
  {
   "cell_type": "markdown",
   "metadata": {},
   "source": [
    "Let's take a simple example. Consider the following GP: $z_\\mathbf{x}=\\mathbf{x}^T\\mathbf{w}$, where $\\mathcal{X}=\\mathcal{R}^d$, $\\mathbf{x} \\in \\mathcal{X}$, and $\\mathbf{w} \\in \\mathcal{R}^d \\sim \\mathcal{N}(0, I)$. To show that this defines a valid G.P, we need to show that any finite subset of these random variables is multivariate Gaussian distributed. Consider a subset of $n$ such random variables:\n",
    "$\\mathbf{z} = \\mathbf{X}\\mathbf{w}$, where $\\mathbf{z} = \\begin{pmatrix}z_{\\mathbf{x}_1} \\\\ \\vdots \\\\ z_{\\mathbf{x}_n} \\end{pmatrix}$ and  $\\mathbf{X}= \\begin{pmatrix}\\mathbf{x}_1^T \\\\ \\vdots \\\\ \\mathbf{x}_n^T \\end{pmatrix}$. By the affine property of multivariate Gaussians, $\\mathbf{z}$ is indeed multivariate ($n$-variate) Gaussian distributed with $\\text{E}[\\mathbf{z}] = \\mathbf{0}$ and $\\text{Cov}[\\mathbf{z}] = \\mathbf{X}\\mathbf{X}^T$."
   ]
  },
  {
   "cell_type": "markdown",
   "metadata": {},
   "source": [
    "Sampling from this G.P is as easy as sampling from an $n$-variate multivariate Gaussian distribution (where $n$ can be any number $n \\in \\mathcal{N}$). "
   ]
  },
  {
   "cell_type": "code",
   "execution_count": null,
   "metadata": {},
   "outputs": [],
   "source": [
    "import numpy as np\n",
    "X = np.arange(0, 5, 0.005)[:, np.newaxis]"
   ]
  },
  {
   "cell_type": "code",
   "execution_count": null,
   "metadata": {},
   "outputs": [],
   "source": [
    "X.shape"
   ]
  },
  {
   "cell_type": "code",
   "execution_count": null,
   "metadata": {},
   "outputs": [],
   "source": [
    "n = X.shape[0]\n",
    "y_mean = np.zeros(n)\n",
    "y_cov = np.dot(X, X.T) + 1e-10*np.eye(X.shape[0])\n",
    "\n",
    "L = np.linalg.cholesky(y_cov)\n",
    "u = np.random.randn(n, 50)\n",
    "z = np.dot(L, u) + y_mean[:, np.newaxis]"
   ]
  },
  {
   "cell_type": "code",
   "execution_count": null,
   "metadata": {},
   "outputs": [],
   "source": [
    "z.shape"
   ]
  },
  {
   "cell_type": "markdown",
   "metadata": {},
   "source": [
    "### Bayesian Linear Regression -> GP Regression"
   ]
  },
  {
   "cell_type": "markdown",
   "metadata": {},
   "source": [
    "The standard Bayesian linear regression model with Gaussian noise is:\n",
    "$$ f(\\mathbf{x}) = \\mathbf{x}^T \\mathbf{w}, \\quad y = f(\\mathbf{x}) + \\epsilon $$\n",
    "with\n",
    "$$ \\mathbf{w} \\sim \\mathcal{N}(0, \\Sigma_{p}) \\quad \\text{and} \\quad \\epsilon \\sim \\mathcal{N}(0, \\sigma^{2}I) $$"
   ]
  },
  {
   "cell_type": "markdown",
   "metadata": {},
   "source": [
    "Bay\n",
    "$$x=\\sqrt{a^2 + b^2}$$"
   ]
  },
  {
   "cell_type": "code",
   "execution_count": null,
   "metadata": {},
   "outputs": [],
   "source": [
    "from scipy.spatial.distance import pdist, cdist, squareform\n",
    "import numpy as np\n",
    "from matplotlib import pyplot as plt\n",
    "import copy\n",
    "from scipy.optimize import minimize\n",
    "import warnings"
   ]
  },
  {
   "cell_type": "code",
   "execution_count": null,
   "metadata": {},
   "outputs": [],
   "source": [
    "class GPR():\n",
    "    def __init__(self, kernel, optimizer, noise_var=1e-10):\n",
    "        self.kernel = kernel\n",
    "        self.optimizer = optimizer\n",
    "        self.noise_var = noise_var\n",
    "        \n",
    "    def fit(self, X, y, eval_gradient=True):\n",
    "        pass\n",
    "    def predict(self, X):\n",
    "        pass\n",
    "    def sample_y(self, X, n_samples):\n",
    "        pass\n",
    "    def log_marginal_likelihood(self, theta=None, eval_gradient=None):\n",
    "        pass"
   ]
  },
  {
   "cell_type": "code",
   "execution_count": null,
   "metadata": {},
   "outputs": [],
   "source": [
    "class RBF():\n",
    "    \n",
    "    def __init__(self, length_scale=1.0, length_scale_bounds=(1e-5, 1e5)):\n",
    "        self.length_scale = length_scale\n",
    "        self.length_scale_bounds = length_scale_bounds\n",
    "    \n",
    "    def __call__(self, X1, X2=None, eval_gradient=False):\n",
    "        if X2 is None:\n",
    "            # Upper triangular pair-wise distances\n",
    "            dists = pdist(X1/self.length_scale, 'sqeuclidean')\n",
    "            K = np.exp(-0.5 * dists)\n",
    "            K = squareform(K)  # copy upper-triangle to lower-triangle\n",
    "            np.fill_diagonal(K, 1)\n",
    "        else:\n",
    "            if eval_gradient:\n",
    "                raise ValueError(\n",
    "                    \"Should only be evaluating gradient when X2 is None.\")\n",
    "            dists = cdist(X1/self.length_scale, X2/self.length_scale, \n",
    "                          metric='sqeuclidean')\n",
    "            K = np.exp(-0.5 * dists)\n",
    "            \n",
    "        if eval_gradient:\n",
    "            # Note scipy implementation doesn't divide by self.length_scale but\n",
    "            # I think this is wrong.\n",
    "            K_gradient = (K * squareform(dists))[:, :, np.newaxis] / self.length_scale \n",
    "            return K, K_gradient\n",
    "        else:\n",
    "            return K\n",
    "    \n",
    "    def theta(self):\n",
    "        return np.array([self.length_scale])\n",
    "    \n",
    "    def set_theta(self, theta):\n",
    "        [self.length_scale] = theta\n",
    "        \n",
    "    def bounds(self):\n",
    "        return [self.length_scale_bounds]"
   ]
  },
  {
   "cell_type": "code",
   "execution_count": null,
   "metadata": {},
   "outputs": [],
   "source": [
    "def fit(self, X, y, eval_gradient=True):\n",
    "    \n",
    "    # demean our observations and take this mean for GP prior \n",
    "    # (realized in computing predictive mean eqn. 2.25)\n",
    "    self._y_train_mean = np.mean(y, axis=0)\n",
    "    y = y - self._y_train_mean\n",
    "    \n",
    "    self.X_train_ = np.copy(X)\n",
    "    self.y_train_ = np.copy(y)\n",
    "    self.kernel_ = copy.copy(self.kernel)  # same as prior kernel \n",
    "    # but with parameters to be optimized\n",
    "    \n",
    "    def obj_func(theta, eval_gradient):\n",
    "        if eval_gradient:\n",
    "            lml, grad = self.log_marginal_likelihood(theta, eval_gradient=True)\n",
    "            return -lml, -grad\n",
    "        else:\n",
    "            return -self.log_marginal_likelihood(theta)\n",
    "    results = minimize(obj_func, \n",
    "                       self.kernel_.theta(), \n",
    "                       args=(eval_gradient), \n",
    "                       method=self.optimizer, \n",
    "                       jac=eval_gradient,\n",
    "                       bounds=self.kernel_.bounds())\n",
    "    self.log_marginal_likelihood_value = -results['fun']\n",
    "    self.kernel_.set_theta(results['x'])\n",
    "    \n",
    "    # compute alpha of eqn. 2.25, needed for making predictions and computing lml\n",
    "    K = self.kernel_(self.X_train_)\n",
    "    K[np.diag_indices_from(K)] += self.noise_var\n",
    "    try:\n",
    "        self.L_ = np.linalg.cholesky(K)\n",
    "    except np.linalg.LinAlgError as e:\n",
    "        e.args = (\"The kernel, %s, is not returning a\" \n",
    "                  \"positive definite matrix. Try gradually \"\n",
    "                 \"increasing the 'alpha' parameter of your \"\n",
    "                    \"GaussianProcessRegressor estimator.\"\n",
    "                  % self.kernel_,) + e.args\n",
    "        raise\n",
    "        \n",
    "    self.alpha_ = np.linalg.solve(self.L_.T, np.linalg.solve(self.L_, self.y_train_))\n",
    "    \n",
    "    return results['success']\n",
    "\n",
    "GPR.fit = fit"
   ]
  },
  {
   "cell_type": "code",
   "execution_count": null,
   "metadata": {},
   "outputs": [],
   "source": [
    "def predict(self, X):\n",
    "    \"\"\" Returns predictive mean and variance.\"\"\"\n",
    "    if not hasattr(self, \"X_train_\"):  # Unfitted; predict based on GP prior.\n",
    "        y_mean = np.zeros(X.shape[0])\n",
    "        y_cov = self.kernel(X)\n",
    "        return y_mean, y_cov\n",
    "    else:  # Predict based on GP posterior using kernel with optimized params\n",
    "        K_trans = self.kernel_(X, self.X_train_)\n",
    "        y_mean = K_trans.dot(self.alpha_)  # Line 4 (y_mean = f_star)\n",
    "        y_mean = self._y_train_mean + y_mean  # undo normal.\n",
    "\n",
    "        v = np.linalg.solve(self.L_, K_trans.T)  # self.L_.T * K_inv * K_trans.T\n",
    "        y_cov = self.kernel_(X) - np.dot(v.T, v)  # Line 6\n",
    "        \n",
    "        # Add jitter to avoid numerical issues\n",
    "        y_cov[np.diag_indices_from(y_cov)] += 1e-10\n",
    "      \n",
    "        return y_mean, y_cov\n",
    "GPR.predict = predict"
   ]
  },
  {
   "cell_type": "code",
   "execution_count": null,
   "metadata": {},
   "outputs": [],
   "source": [
    "def sample_y(self, X, n_samples=1):\n",
    "    y_mean, y_cov = self.predict(X)\n",
    "    \n",
    "    # z = np.random.multivariate_normal(y_mean, y_cov, n_samples).T  \n",
    "    try:\n",
    "        L = np.linalg.cholesky(y_cov)\n",
    "    except np.linalg.LinAlgError as e:\n",
    "        e.args = (\"The kernel, %s, is not returning a\" \n",
    "                  \"positive definite matrix.\"\n",
    "                  % self.kernel,) + e.args\n",
    "        raise\n",
    "    u = np.random.randn(X.shape[0], n_samples)\n",
    "    z = np.dot(L, u) + y_mean[:, np.newaxis]\n",
    "    return z\n",
    "GPR.sample_y = sample_y"
   ]
  },
  {
   "cell_type": "code",
   "execution_count": null,
   "metadata": {},
   "outputs": [],
   "source": [
    "def log_marginal_likelihood(self, theta=None, eval_gradient=False, noise_var=None):\n",
    "    \n",
    "    if noise_var is None:\n",
    "        noise_var = self.noise_var\n",
    "        \n",
    "    if theta is None:\n",
    "        assert hasattr(self, \"log_marginal_likelihood_value\")\n",
    "        print('Using fitted theta')\n",
    "        return self.log_marginal_likelihood_value\n",
    "    \n",
    "    kernel = copy.deepcopy(self.kernel)\n",
    "    kernel.set_theta(theta)\n",
    "    \n",
    "    if eval_gradient:\n",
    "        K, K_gradient = kernel(self.X_train_, eval_gradient=True)\n",
    "    else:\n",
    "        K = kernel(self.X_train_)\n",
    "        \n",
    "    K[np.diag_indices_from(K)] += noise_var\n",
    "       \n",
    "    # Compute L and alpha for this K (theta)\n",
    "    try:\n",
    "        L = np.linalg.cholesky(K)\n",
    "    except np.linalg.LinAlgError:\n",
    "        return (-np.inf, np.zeros_like(theta)) if eval_gradient else -np.inf\n",
    "\n",
    "    alpha = np.linalg.solve(L.T, np.linalg.solve(L, self.y_train_))\n",
    "        \n",
    "    # Compute log-likelihood (eqn. 2.30)\n",
    "    log_likelihood = -0.5 * np.einsum(\"i,i\", self.y_train_, alpha)\n",
    "    log_likelihood -= np.log(np.diag(L)).sum()\n",
    "    log_likelihood -= K.shape[0] / 2 * np.log(2 * np.pi)\n",
    "\n",
    "    if eval_gradient:\n",
    "        # Compute lml gradient w.r.t kernel params (eqn. 5.9)\n",
    "        tmp = np.einsum(\"i,j->ij\", alpha, alpha)\n",
    "        tmp -= np.linalg.solve(L.T, np.linalg.solve(L, np.eye(K.shape[0])))  # K inverse\n",
    "        log_likelihood_gradient = 0.5 * np.einsum(\"ij,ijk->k\", tmp, K_gradient)\n",
    "    \n",
    "    if eval_gradient:\n",
    "        return log_likelihood, log_likelihood_gradient\n",
    "    else:\n",
    "        return log_likelihood\n",
    "GPR.log_marginal_likelihood = log_marginal_likelihood"
   ]
  },
  {
   "cell_type": "code",
   "execution_count": null,
   "metadata": {},
   "outputs": [],
   "source": [
    "X = np.sort(np.random.uniform(-5, 5, 10))[:, np.newaxis]\n",
    "kernel = RBF(length_scale=1)\n",
    "gp = GPR(kernel, 'L-BFGS-B', noise_var=1e-10)"
   ]
  },
  {
   "cell_type": "code",
   "execution_count": null,
   "metadata": {},
   "outputs": [],
   "source": [
    "# Sample from prior and take as observations\n",
    "y_sample = gp.sample_y(X)"
   ]
  },
  {
   "cell_type": "code",
   "execution_count": null,
   "metadata": {},
   "outputs": [],
   "source": [
    "y_sample.shape"
   ]
  },
  {
   "cell_type": "code",
   "execution_count": null,
   "metadata": {},
   "outputs": [],
   "source": [
    "%%capture\n",
    "fig, ax = plt.subplots()"
   ]
  },
  {
   "cell_type": "code",
   "execution_count": null,
   "metadata": {},
   "outputs": [],
   "source": [
    "ax.plot(X, y_sample, 'r+')\n",
    "ax.set_xlim(-5, 5)\n",
    "ax.set_ylim(-2.5, 2.5)\n",
    "fig"
   ]
  },
  {
   "cell_type": "code",
   "execution_count": null,
   "metadata": {},
   "outputs": [],
   "source": [
    "X_test = np.arange(-5, 5, 0.005)[:, np.newaxis]"
   ]
  },
  {
   "cell_type": "code",
   "execution_count": null,
   "metadata": {},
   "outputs": [],
   "source": [
    "gp.fit(X, y_sample[:, 0], True)"
   ]
  },
  {
   "cell_type": "code",
   "execution_count": null,
   "metadata": {},
   "outputs": [],
   "source": [
    "gp.kernel_.theta()"
   ]
  },
  {
   "cell_type": "code",
   "execution_count": null,
   "metadata": {},
   "outputs": [],
   "source": [
    "gp.kernel.theta()"
   ]
  },
  {
   "cell_type": "code",
   "execution_count": null,
   "metadata": {},
   "outputs": [],
   "source": [
    "y_pred_mean, y_pred_covar = gp.predict(X_test)"
   ]
  },
  {
   "cell_type": "code",
   "execution_count": null,
   "metadata": {},
   "outputs": [],
   "source": [
    "ax.plot(X_test, y_pred_mean, 'b')\n",
    "fig"
   ]
  },
  {
   "cell_type": "code",
   "execution_count": null,
   "metadata": {},
   "outputs": [],
   "source": [
    "# compute 95% confidence interval from pointwise variances and plot\n",
    "pointwise_variances = y_pred_covar.diagonal()\n",
    "error = 1.96 * np.sqrt(pointwise_variances)\n",
    "ax.fill_between(X_test[:, 0], y_pred_mean - error, y_pred_mean + error, alpha=0.3)\n",
    "fig"
   ]
  },
  {
   "cell_type": "code",
   "execution_count": null,
   "metadata": {},
   "outputs": [],
   "source": [
    "y_pred_sample = gp.sample_y(X_test, n_samples=5)"
   ]
  },
  {
   "cell_type": "code",
   "execution_count": null,
   "metadata": {},
   "outputs": [],
   "source": [
    "for i in range(y_pred_sample.shape[1]):\n",
    "    ax.plot(X_test, y_pred_sample[:, i])\n",
    "fig"
   ]
  },
  {
   "cell_type": "code",
   "execution_count": null,
   "metadata": {},
   "outputs": [],
   "source": [
    "gp.log_marginal_likelihood()"
   ]
  },
  {
   "cell_type": "code",
   "execution_count": null,
   "metadata": {},
   "outputs": [],
   "source": [
    "# Plot log marginal likelihood w.r.t. different values of theta\n",
    "length_scales = np.linspace(0.90, 1.2, 100)\n",
    "noise_variance = np.linspace(1e-11, 1e-4, 100)\n",
    "X, Y = np.meshgrid(length_scales, noise_variance)"
   ]
  },
  {
   "cell_type": "code",
   "execution_count": null,
   "metadata": {},
   "outputs": [],
   "source": [
    "X.shape"
   ]
  },
  {
   "cell_type": "code",
   "execution_count": null,
   "metadata": {},
   "outputs": [],
   "source": [
    "Z = np.array(list(map(lambda x: gp.log_marginal_likelihood(theta=[x[0]], noise_var=x[1]), list(zip(X.ravel(), Y.ravel())))))"
   ]
  },
  {
   "cell_type": "code",
   "execution_count": null,
   "metadata": {},
   "outputs": [],
   "source": [
    "Z = Z.reshape((X.shape))"
   ]
  },
  {
   "cell_type": "code",
   "execution_count": null,
   "metadata": {},
   "outputs": [],
   "source": [
    "Z.shape"
   ]
  },
  {
   "cell_type": "code",
   "execution_count": null,
   "metadata": {},
   "outputs": [],
   "source": [
    "fig, ax = plt.subplots()\n",
    "ax.set_xscale('log')\n",
    "ax.set_yscale('log')\n",
    "CS = ax.contour(X, Y, Z)\n",
    "plt.clabel(CS, inline=1, fontsize=10)"
   ]
  },
  {
   "cell_type": "code",
   "execution_count": null,
   "metadata": {},
   "outputs": [],
   "source": []
  }
 ],
 "metadata": {
  "kernelspec": {
   "display_name": "Python 3",
   "language": "python",
   "name": "python3"
  },
  "language_info": {
   "codemirror_mode": {
    "name": "ipython",
    "version": 3
   },
   "file_extension": ".py",
   "mimetype": "text/x-python",
   "name": "python",
   "nbconvert_exporter": "python",
   "pygments_lexer": "ipython3",
   "version": "3.5.1"
  }
 },
 "nbformat": 4,
 "nbformat_minor": 2
}
